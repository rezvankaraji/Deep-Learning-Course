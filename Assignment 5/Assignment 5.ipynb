{
  "nbformat": 4,
  "nbformat_minor": 0,
  "metadata": {
    "colab": {
      "name": "deep5.ipynb",
      "provenance": []
    },
    "kernelspec": {
      "name": "python3",
      "display_name": "Python 3"
    },
    "language_info": {
      "name": "python"
    }
  },
  "cells": [
    {
      "cell_type": "code",
      "execution_count": 1,
      "metadata": {
        "id": "pvfbO-CReU52"
      },
      "outputs": [],
      "source": [
        "import time\n",
        "import numpy as np\n",
        "import pandas as pd\n",
        "import seaborn as sn\n",
        "from netCDF4 import Dataset\n",
        "from google.colab import files\n",
        "import matplotlib.pyplot as plt\n",
        "from sklearn import linear_model\n",
        "from keras.models import Sequential, Model\n",
        "from sklearn.preprocessing import MinMaxScaler, StandardScaler\n",
        "from sklearn.model_selection import train_test_split\n",
        "from keras.layers.convolutional import Conv1D, Conv2D\n",
        "from keras.layers import Dense, Dropout, Flatten, Activation, Input, LSTM, GRU, Multiply, Add, SimpleRNN\n",
        "from sklearn.metrics import r2_score"
      ]
    },
    {
      "cell_type": "markdown",
      "source": [
        "## Load and split dataset"
      ],
      "metadata": {
        "id": "G7dyxdV-VlSt"
      }
    },
    {
      "cell_type": "code",
      "source": [
        "files.upload()\n",
        "nc = Dataset('tempStJohns.nc')"
      ],
      "metadata": {
        "colab": {
          "resources": {
            "http://localhost:8080/nbextensions/google.colab/files.js": {
              "data": "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",
              "ok": true,
              "headers": [
                [
                  "content-type",
                  "application/javascript"
                ]
              ],
              "status": 200,
              "status_text": "OK"
            }
          },
          "base_uri": "https://localhost:8080/",
          "height": 75
        },
        "id": "nprLamTLIJso",
        "outputId": "12554328-85e1-4d46-efb2-b8331bc6edd4"
      },
      "execution_count": 2,
      "outputs": [
        {
          "output_type": "display_data",
          "data": {
            "text/html": [
              "\n",
              "     <input type=\"file\" id=\"files-3734d748-3d18-4860-865d-a5dcbc389a05\" name=\"files[]\" multiple disabled\n",
              "        style=\"border:none\" />\n",
              "     <output id=\"result-3734d748-3d18-4860-865d-a5dcbc389a05\">\n",
              "      Upload widget is only available when the cell has been executed in the\n",
              "      current browser session. Please rerun this cell to enable.\n",
              "      </output>\n",
              "      <script src=\"/nbextensions/google.colab/files.js\"></script> "
            ],
            "text/plain": [
              "<IPython.core.display.HTML object>"
            ]
          },
          "metadata": {}
        },
        {
          "output_type": "stream",
          "name": "stdout",
          "text": [
            "Saving tempStJohns.nc to tempStJohns (5).nc\n"
          ]
        }
      ]
    },
    {
      "cell_type": "code",
      "source": [
        "temp = nc['t2m'][:,0,0,0] - 273.15"
      ],
      "metadata": {
        "id": "828oyyNDHp-u"
      },
      "execution_count": 3,
      "outputs": []
    },
    {
      "cell_type": "code",
      "source": [
        "values= temp.data\n",
        "values = values.reshape((len(values), 1))\n",
        "# train the normalization\n",
        "scaler = StandardScaler()\n",
        "normalized = scaler.fit_transform(values)\n",
        "\n",
        "# # inverse transform and print the first 5 rows\n",
        "# inversed = scaler.inverse_transform(normalized)"
      ],
      "metadata": {
        "id": "kll_Y00efBZn"
      },
      "execution_count": 4,
      "outputs": []
    },
    {
      "cell_type": "code",
      "source": [
        "def split_dataset(x_len, y_len, data):\n",
        "  X, Y = [],[]\n",
        "  record_num = data.shape[0]//(x_len + y_len)\n",
        "  for i in range(record_num):\n",
        "    X.append([x[0] for x in data[i:i+x_len]])\n",
        "    Y.append([x[0] for x in data[i+x_len:i+x_len+y_len]])\n",
        "  return pd.DataFrame(X), pd.DataFrame(Y)\n",
        "\n",
        "feature, target = split_dataset(6, 6, normalized)"
      ],
      "metadata": {
        "id": "cfjyHrxVXzA4"
      },
      "execution_count": 5,
      "outputs": []
    },
    {
      "cell_type": "code",
      "source": [
        "X_train, X_test, y_train, y_test = train_test_split(feature, target, test_size=0.2, shuffle=True)"
      ],
      "metadata": {
        "id": "ao0o6aX9WiJk"
      },
      "execution_count": 6,
      "outputs": []
    },
    {
      "cell_type": "code",
      "source": [
        "X_train = X_train.reset_index(drop=True)\n",
        "X_test = X_test.reset_index(drop=True)\n",
        "\n",
        "y_train = y_train.reset_index(drop=True)\n",
        "y_test = y_test.reset_index(drop=True)"
      ],
      "metadata": {
        "id": "a17sn1UC9nSo"
      },
      "execution_count": 7,
      "outputs": []
    },
    {
      "cell_type": "code",
      "source": [
        "preds = []\n",
        "times = []"
      ],
      "metadata": {
        "id": "n2FYNjzTC5An"
      },
      "execution_count": 66,
      "outputs": []
    },
    {
      "cell_type": "markdown",
      "source": [
        "# Q1"
      ],
      "metadata": {
        "id": "QLi4nvJ1f6x0"
      }
    },
    {
      "cell_type": "markdown",
      "source": [
        "## Linear regression"
      ],
      "metadata": {
        "id": "imaDk-SIZOlv"
      }
    },
    {
      "cell_type": "code",
      "source": [
        "start = time.time()\n",
        "model_lr = linear_model.LinearRegression()\n",
        "model_lr.fit(X_train, y_train)\n",
        "y_pred_lr = model_lr.predict(X_test)\n",
        "stop = time.time()\n",
        "times.append(stop-start)\n",
        "preds.append(y_pred_lr)\n",
        "for i in range(6):\n",
        "  print('%d-th R2-score: %.2f' % (i, r2_score(y_test[i], y_pred_lr[:,i])))"
      ],
      "metadata": {
        "colab": {
          "base_uri": "https://localhost:8080/"
        },
        "id": "OgEcljDpZKbJ",
        "outputId": "87903506-61be-48f4-c55c-86fcb7ba6cc0"
      },
      "execution_count": 67,
      "outputs": [
        {
          "output_type": "stream",
          "name": "stdout",
          "text": [
            "0-th R2-score: 0.99\n",
            "1-th R2-score: 0.98\n",
            "2-th R2-score: 0.97\n",
            "3-th R2-score: 0.95\n",
            "4-th R2-score: 0.93\n",
            "5-th R2-score: 0.91\n"
          ]
        }
      ]
    },
    {
      "cell_type": "markdown",
      "source": [
        "## MLP"
      ],
      "metadata": {
        "id": "mxl02Tzdbjqz"
      }
    },
    {
      "cell_type": "code",
      "source": [
        "model_mlp = Sequential()\n",
        "model_mlp.add(Dense(512, input_shape=(6,), activation='relu'))\n",
        "model_mlp.add(Dense(512, activation='relu'))\n",
        "model_mlp.add(Dense(6))\n",
        "\n",
        "model_mlp.compile(loss='mse', optimizer='adam', metrics=['mse'])\n",
        "model_mlp.summary()"
      ],
      "metadata": {
        "colab": {
          "base_uri": "https://localhost:8080/"
        },
        "id": "RH2lRK0UPGq4",
        "outputId": "f19f7c9d-737f-45af-9209-2458b5482ec6"
      },
      "execution_count": 76,
      "outputs": [
        {
          "output_type": "stream",
          "name": "stdout",
          "text": [
            "Model: \"sequential_2\"\n",
            "_________________________________________________________________\n",
            " Layer (type)                Output Shape              Param #   \n",
            "=================================================================\n",
            " dense_6 (Dense)             (None, 512)               3584      \n",
            "                                                                 \n",
            " dense_7 (Dense)             (None, 512)               262656    \n",
            "                                                                 \n",
            " dense_8 (Dense)             (None, 6)                 3078      \n",
            "                                                                 \n",
            "=================================================================\n",
            "Total params: 269,318\n",
            "Trainable params: 269,318\n",
            "Non-trainable params: 0\n",
            "_________________________________________________________________\n"
          ]
        }
      ]
    },
    {
      "cell_type": "code",
      "source": [
        "start = time.time()\n",
        "history_mlp = model_mlp.fit(X_train, y_train, batch_size=32, epochs=40, validation_data=(X_test, y_test))\n",
        "stop = time.time()\n",
        "times.append(stop-start)"
      ],
      "metadata": {
        "colab": {
          "base_uri": "https://localhost:8080/"
        },
        "outputId": "97b46849-89e5-4873-c2e1-a8aa2a1b07d8",
        "id": "KohRKyWcbhvC"
      },
      "execution_count": 77,
      "outputs": [
        {
          "output_type": "stream",
          "name": "stdout",
          "text": [
            "Epoch 1/40\n",
            "183/183 [==============================] - 2s 7ms/step - loss: 1.2242e-04 - mse: 1.2242e-04 - val_loss: 9.7891e-07 - val_mse: 9.7891e-07\n",
            "Epoch 2/40\n",
            "183/183 [==============================] - 1s 6ms/step - loss: 9.3254e-07 - mse: 9.3254e-07 - val_loss: 1.0232e-06 - val_mse: 1.0232e-06\n",
            "Epoch 3/40\n",
            "183/183 [==============================] - 1s 6ms/step - loss: 8.7155e-07 - mse: 8.7155e-07 - val_loss: 8.5842e-07 - val_mse: 8.5842e-07\n",
            "Epoch 4/40\n",
            "183/183 [==============================] - 1s 6ms/step - loss: 8.4404e-07 - mse: 8.4404e-07 - val_loss: 8.5206e-07 - val_mse: 8.5206e-07\n",
            "Epoch 5/40\n",
            "183/183 [==============================] - 1s 6ms/step - loss: 7.5095e-07 - mse: 7.5095e-07 - val_loss: 7.6278e-07 - val_mse: 7.6278e-07\n",
            "Epoch 6/40\n",
            "183/183 [==============================] - 1s 6ms/step - loss: 6.9493e-07 - mse: 6.9493e-07 - val_loss: 6.4422e-07 - val_mse: 6.4422e-07\n",
            "Epoch 7/40\n",
            "183/183 [==============================] - 1s 6ms/step - loss: 6.5673e-07 - mse: 6.5673e-07 - val_loss: 5.8864e-07 - val_mse: 5.8864e-07\n",
            "Epoch 8/40\n",
            "183/183 [==============================] - 1s 6ms/step - loss: 6.2871e-07 - mse: 6.2871e-07 - val_loss: 7.9244e-07 - val_mse: 7.9244e-07\n",
            "Epoch 9/40\n",
            "183/183 [==============================] - 1s 6ms/step - loss: 6.9057e-07 - mse: 6.9057e-07 - val_loss: 5.5352e-07 - val_mse: 5.5352e-07\n",
            "Epoch 10/40\n",
            "183/183 [==============================] - 1s 6ms/step - loss: 6.5566e-07 - mse: 6.5566e-07 - val_loss: 5.8772e-07 - val_mse: 5.8772e-07\n",
            "Epoch 11/40\n",
            "183/183 [==============================] - 1s 6ms/step - loss: 7.7673e-07 - mse: 7.7673e-07 - val_loss: 5.5080e-07 - val_mse: 5.5080e-07\n",
            "Epoch 12/40\n",
            "183/183 [==============================] - 1s 6ms/step - loss: 7.1087e-07 - mse: 7.1087e-07 - val_loss: 5.2055e-07 - val_mse: 5.2055e-07\n",
            "Epoch 13/40\n",
            "183/183 [==============================] - 1s 6ms/step - loss: 6.6053e-07 - mse: 6.6053e-07 - val_loss: 5.1801e-07 - val_mse: 5.1801e-07\n",
            "Epoch 14/40\n",
            "183/183 [==============================] - 1s 6ms/step - loss: 6.3753e-07 - mse: 6.3753e-07 - val_loss: 8.4556e-07 - val_mse: 8.4556e-07\n",
            "Epoch 15/40\n",
            "183/183 [==============================] - 1s 6ms/step - loss: 8.5573e-07 - mse: 8.5573e-07 - val_loss: 7.7163e-07 - val_mse: 7.7163e-07\n",
            "Epoch 16/40\n",
            "183/183 [==============================] - 1s 6ms/step - loss: 7.8952e-07 - mse: 7.8952e-07 - val_loss: 5.5763e-07 - val_mse: 5.5763e-07\n",
            "Epoch 17/40\n",
            "183/183 [==============================] - 1s 6ms/step - loss: 8.7916e-07 - mse: 8.7916e-07 - val_loss: 5.3443e-07 - val_mse: 5.3443e-07\n",
            "Epoch 18/40\n",
            "183/183 [==============================] - 1s 6ms/step - loss: 8.2920e-07 - mse: 8.2920e-07 - val_loss: 8.0237e-07 - val_mse: 8.0237e-07\n",
            "Epoch 19/40\n",
            "183/183 [==============================] - 1s 6ms/step - loss: 9.3132e-07 - mse: 9.3132e-07 - val_loss: 6.0553e-07 - val_mse: 6.0553e-07\n",
            "Epoch 20/40\n",
            "183/183 [==============================] - 1s 6ms/step - loss: 8.5397e-07 - mse: 8.5397e-07 - val_loss: 1.0867e-06 - val_mse: 1.0867e-06\n",
            "Epoch 21/40\n",
            "183/183 [==============================] - 1s 6ms/step - loss: 7.5316e-07 - mse: 7.5316e-07 - val_loss: 6.6673e-07 - val_mse: 6.6673e-07\n",
            "Epoch 22/40\n",
            "183/183 [==============================] - 1s 7ms/step - loss: 9.2035e-07 - mse: 9.2035e-07 - val_loss: 2.1630e-06 - val_mse: 2.1630e-06\n",
            "Epoch 23/40\n",
            "183/183 [==============================] - 1s 6ms/step - loss: 8.7188e-07 - mse: 8.7188e-07 - val_loss: 7.2971e-07 - val_mse: 7.2971e-07\n",
            "Epoch 24/40\n",
            "183/183 [==============================] - 1s 7ms/step - loss: 9.5578e-07 - mse: 9.5578e-07 - val_loss: 5.8781e-07 - val_mse: 5.8781e-07\n",
            "Epoch 25/40\n",
            "183/183 [==============================] - 1s 6ms/step - loss: 8.0390e-07 - mse: 8.0390e-07 - val_loss: 5.0239e-07 - val_mse: 5.0239e-07\n",
            "Epoch 26/40\n",
            "183/183 [==============================] - 1s 6ms/step - loss: 8.3689e-07 - mse: 8.3689e-07 - val_loss: 1.1182e-06 - val_mse: 1.1182e-06\n",
            "Epoch 27/40\n",
            "183/183 [==============================] - 1s 6ms/step - loss: 9.6184e-07 - mse: 9.6184e-07 - val_loss: 1.4132e-06 - val_mse: 1.4132e-06\n",
            "Epoch 28/40\n",
            "183/183 [==============================] - 1s 6ms/step - loss: 9.9877e-07 - mse: 9.9877e-07 - val_loss: 7.5028e-07 - val_mse: 7.5028e-07\n",
            "Epoch 29/40\n",
            "183/183 [==============================] - 1s 6ms/step - loss: 9.2247e-07 - mse: 9.2247e-07 - val_loss: 5.0495e-07 - val_mse: 5.0495e-07\n",
            "Epoch 30/40\n",
            "183/183 [==============================] - 1s 6ms/step - loss: 9.1221e-07 - mse: 9.1221e-07 - val_loss: 2.3815e-06 - val_mse: 2.3815e-06\n",
            "Epoch 31/40\n",
            "183/183 [==============================] - 1s 6ms/step - loss: 7.5245e-07 - mse: 7.5245e-07 - val_loss: 9.0565e-07 - val_mse: 9.0565e-07\n",
            "Epoch 32/40\n",
            "183/183 [==============================] - 1s 6ms/step - loss: 8.3936e-07 - mse: 8.3936e-07 - val_loss: 1.0885e-06 - val_mse: 1.0885e-06\n",
            "Epoch 33/40\n",
            "183/183 [==============================] - 1s 6ms/step - loss: 8.7422e-07 - mse: 8.7422e-07 - val_loss: 4.9737e-07 - val_mse: 4.9737e-07\n",
            "Epoch 34/40\n",
            "183/183 [==============================] - 1s 6ms/step - loss: 7.8071e-07 - mse: 7.8071e-07 - val_loss: 1.4198e-06 - val_mse: 1.4198e-06\n",
            "Epoch 35/40\n",
            "183/183 [==============================] - 1s 6ms/step - loss: 8.1550e-07 - mse: 8.1550e-07 - val_loss: 6.1548e-07 - val_mse: 6.1548e-07\n",
            "Epoch 36/40\n",
            "183/183 [==============================] - 1s 6ms/step - loss: 7.4795e-07 - mse: 7.4795e-07 - val_loss: 1.2763e-06 - val_mse: 1.2763e-06\n",
            "Epoch 37/40\n",
            "183/183 [==============================] - 1s 6ms/step - loss: 1.1402e-06 - mse: 1.1402e-06 - val_loss: 5.1550e-07 - val_mse: 5.1550e-07\n",
            "Epoch 38/40\n",
            "183/183 [==============================] - 1s 6ms/step - loss: 7.8816e-07 - mse: 7.8816e-07 - val_loss: 4.8364e-07 - val_mse: 4.8364e-07\n",
            "Epoch 39/40\n",
            "183/183 [==============================] - 1s 6ms/step - loss: 7.8895e-07 - mse: 7.8895e-07 - val_loss: 5.9759e-07 - val_mse: 5.9759e-07\n",
            "Epoch 40/40\n",
            "183/183 [==============================] - 1s 5ms/step - loss: 8.9525e-07 - mse: 8.9525e-07 - val_loss: 1.1150e-06 - val_mse: 1.1150e-06\n"
          ]
        }
      ]
    },
    {
      "cell_type": "code",
      "source": [
        "y_pred_mlp = model_mlp.predict(X_test)\n",
        "preds.append(y_pred_mlp)\n",
        "for i in range(6):\n",
        "  print('%d-th R2-score: %.2f' % (i, r2_score(y_test[i], y_pred_mlp[:,i])))"
      ],
      "metadata": {
        "colab": {
          "base_uri": "https://localhost:8080/"
        },
        "id": "1HKrYkj77F9J",
        "outputId": "a2d1b7b0-18a2-4ce5-a5fb-5aa04f8298d9"
      },
      "execution_count": 78,
      "outputs": [
        {
          "output_type": "stream",
          "name": "stdout",
          "text": [
            "0-th R2-score: 0.90\n",
            "1-th R2-score: 0.74\n",
            "2-th R2-score: 0.80\n",
            "3-th R2-score: 0.84\n",
            "4-th R2-score: 0.77\n",
            "5-th R2-score: 0.77\n"
          ]
        }
      ]
    },
    {
      "cell_type": "markdown",
      "source": [
        "## RNN"
      ],
      "metadata": {
        "id": "_tF8mZN92bp6"
      }
    },
    {
      "cell_type": "code",
      "source": [
        "rnn_models = []\n",
        "input = Input(shape=(6,1))\n",
        "\n",
        "#LSTM\n",
        "x_lstm = LSTM(units= 128, return_sequences=True)(input)\n",
        "x_lstm = LSTM(units= 128)(x_lstm)\n",
        "x_lstm = Dense(units = 6)(x_lstm)\n",
        "\n",
        "rnn_models.append(Model(input, x_lstm))\n",
        "\n",
        "#GRU\n",
        "x_gru = GRU(units= 128, return_sequences=True)(input)\n",
        "x_gru = GRU(units= 128)(x_gru)\n",
        "x_gru = Dense(units = 6)(x_gru)\n",
        "\n",
        "rnn_models.append(Model(input, x_gru))\n",
        "\n",
        "#simple rnn\n",
        "x_rnn = SimpleRNN(units= 128, return_sequences=True)(input)\n",
        "x_rnn = SimpleRNN(units= 128)(x_rnn)\n",
        "x_rnn = Dense(units = 6)(x_rnn)\n",
        "\n",
        "rnn_models.append(Model(input, x_rnn))"
      ],
      "metadata": {
        "id": "idid4vHw2fdC"
      },
      "execution_count": 79,
      "outputs": []
    },
    {
      "cell_type": "code",
      "source": [
        "for model in rnn_models:\n",
        "  \n",
        "  model.compile(loss='mse', optimizer='adam', metrics=['mse'])\n",
        "  model.summary()\n",
        "\n",
        "  start = time.time()\n",
        "  model.fit(X_train, y_train, batch_size=32, epochs=40, validation_data=(X_test, y_test))\n",
        "  stop = time.time()\n",
        "  times.append(stop-start)\n",
        "\n",
        "  y_pred = model.predict(X_test)\n",
        "  preds.append(y_pred)\n",
        "  for i in range(6):\n",
        "    print('%d-th R2-score: %.2f' % (i, r2_score(y_test[i], y_pred[:,i])))"
      ],
      "metadata": {
        "colab": {
          "base_uri": "https://localhost:8080/"
        },
        "id": "pmaMaP1N3O6o",
        "outputId": "74e0667c-46ef-4ec6-d0de-a648af2b1d3c"
      },
      "execution_count": 80,
      "outputs": [
        {
          "output_type": "stream",
          "name": "stdout",
          "text": [
            "Model: \"model_14\"\n",
            "_________________________________________________________________\n",
            " Layer (type)                Output Shape              Param #   \n",
            "=================================================================\n",
            " input_16 (InputLayer)       [(None, 6, 1)]            0         \n",
            "                                                                 \n",
            " lstm (LSTM)                 (None, 6, 128)            66560     \n",
            "                                                                 \n",
            " lstm_1 (LSTM)               (None, 128)               131584    \n",
            "                                                                 \n",
            " dense_9 (Dense)             (None, 6)                 774       \n",
            "                                                                 \n",
            "=================================================================\n",
            "Total params: 198,918\n",
            "Trainable params: 198,918\n",
            "Non-trainable params: 0\n",
            "_________________________________________________________________\n",
            "Epoch 1/40\n",
            "183/183 [==============================] - 14s 21ms/step - loss: 1.9243e-04 - mse: 1.9243e-04 - val_loss: 3.3682e-06 - val_mse: 3.3682e-06\n",
            "Epoch 2/40\n",
            "183/183 [==============================] - 3s 16ms/step - loss: 3.3312e-06 - mse: 3.3312e-06 - val_loss: 3.6288e-06 - val_mse: 3.6288e-06\n",
            "Epoch 3/40\n",
            "183/183 [==============================] - 3s 16ms/step - loss: 3.1717e-06 - mse: 3.1717e-06 - val_loss: 2.9644e-06 - val_mse: 2.9644e-06\n",
            "Epoch 4/40\n",
            "183/183 [==============================] - 3s 16ms/step - loss: 3.0025e-06 - mse: 3.0025e-06 - val_loss: 2.7819e-06 - val_mse: 2.7819e-06\n",
            "Epoch 5/40\n",
            "183/183 [==============================] - 3s 16ms/step - loss: 2.5778e-06 - mse: 2.5778e-06 - val_loss: 2.2329e-06 - val_mse: 2.2329e-06\n",
            "Epoch 6/40\n",
            "183/183 [==============================] - 3s 16ms/step - loss: 2.1673e-06 - mse: 2.1673e-06 - val_loss: 1.7491e-06 - val_mse: 1.7491e-06\n",
            "Epoch 7/40\n",
            "183/183 [==============================] - 3s 16ms/step - loss: 1.7498e-06 - mse: 1.7498e-06 - val_loss: 1.2241e-06 - val_mse: 1.2241e-06\n",
            "Epoch 8/40\n",
            "183/183 [==============================] - 3s 16ms/step - loss: 1.4899e-06 - mse: 1.4899e-06 - val_loss: 9.3820e-07 - val_mse: 9.3820e-07\n",
            "Epoch 9/40\n",
            "183/183 [==============================] - 3s 17ms/step - loss: 1.2573e-06 - mse: 1.2573e-06 - val_loss: 2.5387e-06 - val_mse: 2.5387e-06\n",
            "Epoch 10/40\n",
            "183/183 [==============================] - 3s 17ms/step - loss: 1.3374e-06 - mse: 1.3374e-06 - val_loss: 1.3504e-06 - val_mse: 1.3504e-06\n",
            "Epoch 11/40\n",
            "183/183 [==============================] - 3s 16ms/step - loss: 1.1061e-06 - mse: 1.1061e-06 - val_loss: 9.2360e-07 - val_mse: 9.2360e-07\n",
            "Epoch 12/40\n",
            "183/183 [==============================] - 3s 16ms/step - loss: 1.0378e-06 - mse: 1.0378e-06 - val_loss: 3.4257e-06 - val_mse: 3.4257e-06\n",
            "Epoch 13/40\n",
            "183/183 [==============================] - 3s 16ms/step - loss: 1.9058e-06 - mse: 1.9058e-06 - val_loss: 1.2561e-06 - val_mse: 1.2561e-06\n",
            "Epoch 14/40\n",
            "183/183 [==============================] - 3s 16ms/step - loss: 1.1260e-06 - mse: 1.1260e-06 - val_loss: 7.4559e-07 - val_mse: 7.4559e-07\n",
            "Epoch 15/40\n",
            "183/183 [==============================] - 3s 16ms/step - loss: 1.0941e-06 - mse: 1.0941e-06 - val_loss: 1.6112e-06 - val_mse: 1.6112e-06\n",
            "Epoch 16/40\n",
            "183/183 [==============================] - 3s 16ms/step - loss: 9.8127e-07 - mse: 9.8127e-07 - val_loss: 2.4073e-06 - val_mse: 2.4073e-06\n",
            "Epoch 17/40\n",
            "183/183 [==============================] - 3s 16ms/step - loss: 1.2626e-06 - mse: 1.2626e-06 - val_loss: 6.8540e-07 - val_mse: 6.8540e-07\n",
            "Epoch 18/40\n",
            "183/183 [==============================] - 3s 16ms/step - loss: 1.5314e-06 - mse: 1.5314e-06 - val_loss: 1.0494e-06 - val_mse: 1.0494e-06\n",
            "Epoch 19/40\n",
            "183/183 [==============================] - 3s 16ms/step - loss: 1.2531e-06 - mse: 1.2531e-06 - val_loss: 1.0705e-06 - val_mse: 1.0705e-06\n",
            "Epoch 20/40\n",
            "183/183 [==============================] - 3s 16ms/step - loss: 1.0304e-06 - mse: 1.0304e-06 - val_loss: 8.5003e-07 - val_mse: 8.5003e-07\n",
            "Epoch 21/40\n",
            "183/183 [==============================] - 3s 17ms/step - loss: 1.4230e-06 - mse: 1.4230e-06 - val_loss: 7.3365e-07 - val_mse: 7.3365e-07\n",
            "Epoch 22/40\n",
            "183/183 [==============================] - 3s 16ms/step - loss: 1.4862e-06 - mse: 1.4862e-06 - val_loss: 9.3758e-07 - val_mse: 9.3758e-07\n",
            "Epoch 23/40\n",
            "183/183 [==============================] - 3s 16ms/step - loss: 1.0646e-06 - mse: 1.0646e-06 - val_loss: 8.9734e-07 - val_mse: 8.9734e-07\n",
            "Epoch 24/40\n",
            "183/183 [==============================] - 3s 15ms/step - loss: 1.1977e-06 - mse: 1.1977e-06 - val_loss: 1.1985e-06 - val_mse: 1.1985e-06\n",
            "Epoch 25/40\n",
            "183/183 [==============================] - 3s 16ms/step - loss: 1.3799e-06 - mse: 1.3799e-06 - val_loss: 2.6150e-06 - val_mse: 2.6150e-06\n",
            "Epoch 26/40\n",
            "183/183 [==============================] - 3s 16ms/step - loss: 1.2064e-06 - mse: 1.2064e-06 - val_loss: 1.5420e-06 - val_mse: 1.5420e-06\n",
            "Epoch 27/40\n",
            "183/183 [==============================] - 3s 16ms/step - loss: 1.1488e-06 - mse: 1.1488e-06 - val_loss: 3.4937e-06 - val_mse: 3.4937e-06\n",
            "Epoch 28/40\n",
            "183/183 [==============================] - 3s 16ms/step - loss: 1.2597e-06 - mse: 1.2597e-06 - val_loss: 7.4487e-07 - val_mse: 7.4487e-07\n",
            "Epoch 29/40\n",
            "183/183 [==============================] - 3s 16ms/step - loss: 1.3835e-06 - mse: 1.3835e-06 - val_loss: 7.7542e-07 - val_mse: 7.7542e-07\n",
            "Epoch 30/40\n",
            "183/183 [==============================] - 3s 16ms/step - loss: 1.2120e-06 - mse: 1.2120e-06 - val_loss: 3.6823e-06 - val_mse: 3.6823e-06\n",
            "Epoch 31/40\n",
            "183/183 [==============================] - 3s 16ms/step - loss: 1.2294e-06 - mse: 1.2294e-06 - val_loss: 9.0004e-07 - val_mse: 9.0004e-07\n",
            "Epoch 32/40\n",
            "183/183 [==============================] - 3s 16ms/step - loss: 1.0363e-06 - mse: 1.0363e-06 - val_loss: 7.6864e-07 - val_mse: 7.6864e-07\n",
            "Epoch 33/40\n",
            "183/183 [==============================] - 3s 16ms/step - loss: 1.1600e-06 - mse: 1.1600e-06 - val_loss: 1.6742e-06 - val_mse: 1.6742e-06\n",
            "Epoch 34/40\n",
            "183/183 [==============================] - 3s 16ms/step - loss: 9.4712e-07 - mse: 9.4712e-07 - val_loss: 1.5527e-06 - val_mse: 1.5527e-06\n",
            "Epoch 35/40\n",
            "183/183 [==============================] - 3s 16ms/step - loss: 1.2132e-06 - mse: 1.2132e-06 - val_loss: 8.1892e-07 - val_mse: 8.1892e-07\n",
            "Epoch 36/40\n",
            "183/183 [==============================] - 3s 16ms/step - loss: 9.8012e-07 - mse: 9.8012e-07 - val_loss: 9.4537e-07 - val_mse: 9.4537e-07\n",
            "Epoch 37/40\n",
            "183/183 [==============================] - 3s 16ms/step - loss: 1.0411e-06 - mse: 1.0411e-06 - val_loss: 9.6678e-07 - val_mse: 9.6678e-07\n",
            "Epoch 38/40\n",
            "183/183 [==============================] - 3s 16ms/step - loss: 9.9133e-07 - mse: 9.9133e-07 - val_loss: 7.9340e-07 - val_mse: 7.9340e-07\n",
            "Epoch 39/40\n",
            "183/183 [==============================] - 3s 16ms/step - loss: 1.3362e-06 - mse: 1.3362e-06 - val_loss: 6.2979e-07 - val_mse: 6.2979e-07\n",
            "Epoch 40/40\n",
            "183/183 [==============================] - 3s 16ms/step - loss: 9.9533e-07 - mse: 9.9533e-07 - val_loss: 6.1475e-07 - val_mse: 6.1475e-07\n",
            "0-th R2-score: 0.94\n",
            "1-th R2-score: 0.93\n",
            "2-th R2-score: 0.89\n",
            "3-th R2-score: 0.88\n",
            "4-th R2-score: 0.86\n",
            "5-th R2-score: 0.84\n",
            "Model: \"model_15\"\n",
            "_________________________________________________________________\n",
            " Layer (type)                Output Shape              Param #   \n",
            "=================================================================\n",
            " input_16 (InputLayer)       [(None, 6, 1)]            0         \n",
            "                                                                 \n",
            " gru (GRU)                   (None, 6, 128)            50304     \n",
            "                                                                 \n",
            " gru_1 (GRU)                 (None, 128)               99072     \n",
            "                                                                 \n",
            " dense_10 (Dense)            (None, 6)                 774       \n",
            "                                                                 \n",
            "=================================================================\n",
            "Total params: 150,150\n",
            "Trainable params: 150,150\n",
            "Non-trainable params: 0\n",
            "_________________________________________________________________\n",
            "Epoch 1/40\n",
            "183/183 [==============================] - 7s 18ms/step - loss: 1.3092e-04 - mse: 1.3092e-04 - val_loss: 3.0572e-06 - val_mse: 3.0572e-06\n",
            "Epoch 2/40\n",
            "183/183 [==============================] - 3s 14ms/step - loss: 2.8260e-06 - mse: 2.8260e-06 - val_loss: 2.9187e-06 - val_mse: 2.9187e-06\n",
            "Epoch 3/40\n",
            "183/183 [==============================] - 3s 14ms/step - loss: 2.5499e-06 - mse: 2.5499e-06 - val_loss: 2.4058e-06 - val_mse: 2.4058e-06\n",
            "Epoch 4/40\n",
            "183/183 [==============================] - 2s 13ms/step - loss: 2.2597e-06 - mse: 2.2597e-06 - val_loss: 2.0567e-06 - val_mse: 2.0567e-06\n",
            "Epoch 5/40\n",
            "183/183 [==============================] - 3s 14ms/step - loss: 1.9138e-06 - mse: 1.9138e-06 - val_loss: 1.7678e-06 - val_mse: 1.7678e-06\n",
            "Epoch 6/40\n",
            "183/183 [==============================] - 3s 14ms/step - loss: 1.5234e-06 - mse: 1.5234e-06 - val_loss: 1.1806e-06 - val_mse: 1.1806e-06\n",
            "Epoch 7/40\n",
            "183/183 [==============================] - 2s 13ms/step - loss: 1.7302e-06 - mse: 1.7302e-06 - val_loss: 1.1289e-06 - val_mse: 1.1289e-06\n",
            "Epoch 8/40\n",
            "183/183 [==============================] - 2s 13ms/step - loss: 1.1149e-06 - mse: 1.1149e-06 - val_loss: 9.0717e-07 - val_mse: 9.0717e-07\n",
            "Epoch 9/40\n",
            "183/183 [==============================] - 2s 14ms/step - loss: 1.2984e-06 - mse: 1.2984e-06 - val_loss: 6.5376e-07 - val_mse: 6.5376e-07\n",
            "Epoch 10/40\n",
            "183/183 [==============================] - 3s 14ms/step - loss: 1.1582e-06 - mse: 1.1582e-06 - val_loss: 1.9032e-06 - val_mse: 1.9032e-06\n",
            "Epoch 11/40\n",
            "183/183 [==============================] - 2s 13ms/step - loss: 1.2494e-06 - mse: 1.2494e-06 - val_loss: 1.4869e-06 - val_mse: 1.4869e-06\n",
            "Epoch 12/40\n",
            "183/183 [==============================] - 3s 14ms/step - loss: 1.1507e-06 - mse: 1.1507e-06 - val_loss: 2.7443e-06 - val_mse: 2.7443e-06\n",
            "Epoch 13/40\n",
            "183/183 [==============================] - 3s 14ms/step - loss: 1.4259e-06 - mse: 1.4259e-06 - val_loss: 9.2208e-07 - val_mse: 9.2208e-07\n",
            "Epoch 14/40\n",
            "183/183 [==============================] - 3s 14ms/step - loss: 1.1585e-06 - mse: 1.1585e-06 - val_loss: 6.1826e-07 - val_mse: 6.1826e-07\n",
            "Epoch 15/40\n",
            "183/183 [==============================] - 2s 13ms/step - loss: 1.1116e-06 - mse: 1.1116e-06 - val_loss: 3.3006e-06 - val_mse: 3.3006e-06\n",
            "Epoch 16/40\n",
            "183/183 [==============================] - 2s 13ms/step - loss: 1.1768e-06 - mse: 1.1768e-06 - val_loss: 9.9884e-07 - val_mse: 9.9884e-07\n",
            "Epoch 17/40\n",
            "183/183 [==============================] - 3s 14ms/step - loss: 1.4370e-06 - mse: 1.4370e-06 - val_loss: 2.0895e-06 - val_mse: 2.0895e-06\n",
            "Epoch 18/40\n",
            "183/183 [==============================] - 3s 14ms/step - loss: 1.3919e-06 - mse: 1.3919e-06 - val_loss: 8.8115e-07 - val_mse: 8.8115e-07\n",
            "Epoch 19/40\n",
            "183/183 [==============================] - 3s 14ms/step - loss: 1.4139e-06 - mse: 1.4139e-06 - val_loss: 6.8531e-07 - val_mse: 6.8531e-07\n",
            "Epoch 20/40\n",
            "183/183 [==============================] - 2s 14ms/step - loss: 1.1243e-06 - mse: 1.1243e-06 - val_loss: 1.1870e-06 - val_mse: 1.1870e-06\n",
            "Epoch 21/40\n",
            "183/183 [==============================] - 2s 13ms/step - loss: 1.2637e-06 - mse: 1.2637e-06 - val_loss: 1.8126e-06 - val_mse: 1.8126e-06\n",
            "Epoch 22/40\n",
            "183/183 [==============================] - 2s 14ms/step - loss: 1.2281e-06 - mse: 1.2281e-06 - val_loss: 2.0005e-06 - val_mse: 2.0005e-06\n",
            "Epoch 23/40\n",
            "183/183 [==============================] - 3s 14ms/step - loss: 1.3244e-06 - mse: 1.3244e-06 - val_loss: 3.1221e-06 - val_mse: 3.1221e-06\n",
            "Epoch 24/40\n",
            "183/183 [==============================] - 2s 13ms/step - loss: 1.0634e-06 - mse: 1.0634e-06 - val_loss: 8.0477e-07 - val_mse: 8.0477e-07\n",
            "Epoch 25/40\n",
            "183/183 [==============================] - 2s 14ms/step - loss: 9.8273e-07 - mse: 9.8273e-07 - val_loss: 5.3738e-07 - val_mse: 5.3738e-07\n",
            "Epoch 26/40\n",
            "183/183 [==============================] - 2s 13ms/step - loss: 1.3942e-06 - mse: 1.3942e-06 - val_loss: 1.8109e-06 - val_mse: 1.8109e-06\n",
            "Epoch 27/40\n",
            "183/183 [==============================] - 2s 13ms/step - loss: 1.2296e-06 - mse: 1.2296e-06 - val_loss: 5.8395e-07 - val_mse: 5.8395e-07\n",
            "Epoch 28/40\n",
            "183/183 [==============================] - 3s 14ms/step - loss: 1.1337e-06 - mse: 1.1337e-06 - val_loss: 5.8509e-07 - val_mse: 5.8509e-07\n",
            "Epoch 29/40\n",
            "183/183 [==============================] - 3s 14ms/step - loss: 9.0751e-07 - mse: 9.0751e-07 - val_loss: 5.0860e-07 - val_mse: 5.0860e-07\n",
            "Epoch 30/40\n",
            "183/183 [==============================] - 2s 13ms/step - loss: 1.3719e-06 - mse: 1.3719e-06 - val_loss: 6.3651e-07 - val_mse: 6.3651e-07\n",
            "Epoch 31/40\n",
            "183/183 [==============================] - 3s 14ms/step - loss: 9.7531e-07 - mse: 9.7531e-07 - val_loss: 1.3780e-06 - val_mse: 1.3780e-06\n",
            "Epoch 32/40\n",
            "183/183 [==============================] - 2s 13ms/step - loss: 9.3173e-07 - mse: 9.3173e-07 - val_loss: 6.8074e-07 - val_mse: 6.8074e-07\n",
            "Epoch 33/40\n",
            "183/183 [==============================] - 2s 13ms/step - loss: 9.5712e-07 - mse: 9.5712e-07 - val_loss: 8.7537e-07 - val_mse: 8.7537e-07\n",
            "Epoch 34/40\n",
            "183/183 [==============================] - 2s 13ms/step - loss: 1.3140e-06 - mse: 1.3140e-06 - val_loss: 6.4162e-07 - val_mse: 6.4162e-07\n",
            "Epoch 35/40\n",
            "183/183 [==============================] - 2s 14ms/step - loss: 1.1831e-06 - mse: 1.1831e-06 - val_loss: 5.3359e-07 - val_mse: 5.3359e-07\n",
            "Epoch 36/40\n",
            "183/183 [==============================] - 3s 14ms/step - loss: 1.0045e-06 - mse: 1.0045e-06 - val_loss: 2.0252e-06 - val_mse: 2.0252e-06\n",
            "Epoch 37/40\n",
            "183/183 [==============================] - 2s 13ms/step - loss: 8.3821e-07 - mse: 8.3821e-07 - val_loss: 7.8438e-07 - val_mse: 7.8438e-07\n",
            "Epoch 38/40\n",
            "183/183 [==============================] - 3s 14ms/step - loss: 1.2325e-06 - mse: 1.2325e-06 - val_loss: 7.5354e-07 - val_mse: 7.5354e-07\n",
            "Epoch 39/40\n",
            "183/183 [==============================] - 3s 14ms/step - loss: 1.1695e-06 - mse: 1.1695e-06 - val_loss: 5.8526e-07 - val_mse: 5.8526e-07\n",
            "Epoch 40/40\n",
            "183/183 [==============================] - 3s 14ms/step - loss: 8.8702e-07 - mse: 8.8702e-07 - val_loss: 4.7832e-07 - val_mse: 4.7832e-07\n",
            "0-th R2-score: 0.97\n",
            "1-th R2-score: 0.95\n",
            "2-th R2-score: 0.93\n",
            "3-th R2-score: 0.91\n",
            "4-th R2-score: 0.89\n",
            "5-th R2-score: 0.85\n",
            "Model: \"model_16\"\n",
            "_________________________________________________________________\n",
            " Layer (type)                Output Shape              Param #   \n",
            "=================================================================\n",
            " input_16 (InputLayer)       [(None, 6, 1)]            0         \n",
            "                                                                 \n",
            " simple_rnn (SimpleRNN)      (None, 6, 128)            16640     \n",
            "                                                                 \n",
            " simple_rnn_1 (SimpleRNN)    (None, 128)               32896     \n",
            "                                                                 \n",
            " dense_11 (Dense)            (None, 6)                 774       \n",
            "                                                                 \n",
            "=================================================================\n",
            "Total params: 50,310\n",
            "Trainable params: 50,310\n",
            "Non-trainable params: 0\n",
            "_________________________________________________________________\n",
            "Epoch 1/40\n",
            "183/183 [==============================] - 3s 9ms/step - loss: 1.8808e-04 - mse: 1.8808e-04 - val_loss: 1.6556e-06 - val_mse: 1.6556e-06\n",
            "Epoch 2/40\n",
            "183/183 [==============================] - 1s 7ms/step - loss: 1.0926e-06 - mse: 1.0926e-06 - val_loss: 9.4513e-07 - val_mse: 9.4513e-07\n",
            "Epoch 3/40\n",
            "183/183 [==============================] - 1s 7ms/step - loss: 1.1458e-06 - mse: 1.1458e-06 - val_loss: 2.2472e-06 - val_mse: 2.2472e-06\n",
            "Epoch 4/40\n",
            "183/183 [==============================] - 1s 7ms/step - loss: 1.4113e-06 - mse: 1.4113e-06 - val_loss: 9.5873e-07 - val_mse: 9.5873e-07\n",
            "Epoch 5/40\n",
            "183/183 [==============================] - 1s 7ms/step - loss: 1.2443e-06 - mse: 1.2443e-06 - val_loss: 2.2430e-06 - val_mse: 2.2430e-06\n",
            "Epoch 6/40\n",
            "183/183 [==============================] - 1s 7ms/step - loss: 1.6117e-06 - mse: 1.6117e-06 - val_loss: 1.2031e-06 - val_mse: 1.2031e-06\n",
            "Epoch 7/40\n",
            "183/183 [==============================] - 1s 7ms/step - loss: 1.5565e-06 - mse: 1.5565e-06 - val_loss: 2.1543e-06 - val_mse: 2.1543e-06\n",
            "Epoch 8/40\n",
            "183/183 [==============================] - 1s 6ms/step - loss: 1.4984e-06 - mse: 1.4984e-06 - val_loss: 9.7416e-07 - val_mse: 9.7416e-07\n",
            "Epoch 9/40\n",
            "183/183 [==============================] - 1s 7ms/step - loss: 1.4113e-06 - mse: 1.4113e-06 - val_loss: 8.9447e-07 - val_mse: 8.9447e-07\n",
            "Epoch 10/40\n",
            "183/183 [==============================] - 1s 7ms/step - loss: 1.4467e-06 - mse: 1.4467e-06 - val_loss: 1.2309e-06 - val_mse: 1.2309e-06\n",
            "Epoch 11/40\n",
            "183/183 [==============================] - 1s 7ms/step - loss: 1.4518e-06 - mse: 1.4518e-06 - val_loss: 1.1781e-06 - val_mse: 1.1781e-06\n",
            "Epoch 12/40\n",
            "183/183 [==============================] - 1s 7ms/step - loss: 1.4869e-06 - mse: 1.4869e-06 - val_loss: 1.5010e-06 - val_mse: 1.5010e-06\n",
            "Epoch 13/40\n",
            "183/183 [==============================] - 1s 7ms/step - loss: 1.4031e-06 - mse: 1.4031e-06 - val_loss: 1.9539e-06 - val_mse: 1.9539e-06\n",
            "Epoch 14/40\n",
            "183/183 [==============================] - 1s 7ms/step - loss: 1.2947e-06 - mse: 1.2947e-06 - val_loss: 1.0822e-06 - val_mse: 1.0822e-06\n",
            "Epoch 15/40\n",
            "183/183 [==============================] - 1s 7ms/step - loss: 1.5158e-06 - mse: 1.5158e-06 - val_loss: 1.1590e-06 - val_mse: 1.1590e-06\n",
            "Epoch 16/40\n",
            "183/183 [==============================] - 1s 7ms/step - loss: 1.4110e-06 - mse: 1.4110e-06 - val_loss: 1.2502e-06 - val_mse: 1.2502e-06\n",
            "Epoch 17/40\n",
            "183/183 [==============================] - 1s 7ms/step - loss: 1.0797e-06 - mse: 1.0797e-06 - val_loss: 8.1175e-07 - val_mse: 8.1175e-07\n",
            "Epoch 18/40\n",
            "183/183 [==============================] - 1s 7ms/step - loss: 1.1669e-06 - mse: 1.1669e-06 - val_loss: 1.1374e-06 - val_mse: 1.1374e-06\n",
            "Epoch 19/40\n",
            "183/183 [==============================] - 1s 7ms/step - loss: 1.1581e-06 - mse: 1.1581e-06 - val_loss: 9.9403e-07 - val_mse: 9.9403e-07\n",
            "Epoch 20/40\n",
            "183/183 [==============================] - 1s 7ms/step - loss: 1.1706e-06 - mse: 1.1706e-06 - val_loss: 6.7462e-07 - val_mse: 6.7462e-07\n",
            "Epoch 21/40\n",
            "183/183 [==============================] - 1s 7ms/step - loss: 1.0874e-06 - mse: 1.0874e-06 - val_loss: 1.0382e-06 - val_mse: 1.0382e-06\n",
            "Epoch 22/40\n",
            "183/183 [==============================] - 1s 7ms/step - loss: 1.0750e-06 - mse: 1.0750e-06 - val_loss: 2.7182e-06 - val_mse: 2.7182e-06\n",
            "Epoch 23/40\n",
            "183/183 [==============================] - 1s 7ms/step - loss: 1.0132e-06 - mse: 1.0132e-06 - val_loss: 7.9702e-07 - val_mse: 7.9702e-07\n",
            "Epoch 24/40\n",
            "183/183 [==============================] - 1s 6ms/step - loss: 1.2359e-06 - mse: 1.2359e-06 - val_loss: 8.4536e-07 - val_mse: 8.4536e-07\n",
            "Epoch 25/40\n",
            "183/183 [==============================] - 1s 7ms/step - loss: 1.2915e-06 - mse: 1.2915e-06 - val_loss: 7.2249e-07 - val_mse: 7.2249e-07\n",
            "Epoch 26/40\n",
            "183/183 [==============================] - 1s 7ms/step - loss: 1.1864e-06 - mse: 1.1864e-06 - val_loss: 5.5778e-07 - val_mse: 5.5778e-07\n",
            "Epoch 27/40\n",
            "183/183 [==============================] - 1s 7ms/step - loss: 7.9950e-07 - mse: 7.9950e-07 - val_loss: 9.7385e-07 - val_mse: 9.7385e-07\n",
            "Epoch 28/40\n",
            "183/183 [==============================] - 1s 7ms/step - loss: 8.2691e-07 - mse: 8.2691e-07 - val_loss: 7.7034e-07 - val_mse: 7.7034e-07\n",
            "Epoch 29/40\n",
            "183/183 [==============================] - 1s 7ms/step - loss: 9.0706e-07 - mse: 9.0706e-07 - val_loss: 1.0683e-06 - val_mse: 1.0683e-06\n",
            "Epoch 30/40\n",
            "183/183 [==============================] - 1s 7ms/step - loss: 8.2120e-07 - mse: 8.2120e-07 - val_loss: 7.0972e-07 - val_mse: 7.0972e-07\n",
            "Epoch 31/40\n",
            "183/183 [==============================] - 1s 7ms/step - loss: 1.0386e-06 - mse: 1.0386e-06 - val_loss: 1.6457e-06 - val_mse: 1.6457e-06\n",
            "Epoch 32/40\n",
            "183/183 [==============================] - 1s 6ms/step - loss: 8.9955e-07 - mse: 8.9955e-07 - val_loss: 8.0972e-07 - val_mse: 8.0972e-07\n",
            "Epoch 33/40\n",
            "183/183 [==============================] - 1s 6ms/step - loss: 8.3878e-07 - mse: 8.3878e-07 - val_loss: 3.7382e-07 - val_mse: 3.7382e-07\n",
            "Epoch 34/40\n",
            "183/183 [==============================] - 1s 7ms/step - loss: 7.7855e-07 - mse: 7.7855e-07 - val_loss: 1.0344e-06 - val_mse: 1.0344e-06\n",
            "Epoch 35/40\n",
            "183/183 [==============================] - 1s 7ms/step - loss: 9.1827e-07 - mse: 9.1827e-07 - val_loss: 7.5384e-07 - val_mse: 7.5384e-07\n",
            "Epoch 36/40\n",
            "183/183 [==============================] - 1s 7ms/step - loss: 7.7189e-07 - mse: 7.7189e-07 - val_loss: 4.0109e-06 - val_mse: 4.0109e-06\n",
            "Epoch 37/40\n",
            "183/183 [==============================] - 1s 7ms/step - loss: 7.7758e-07 - mse: 7.7758e-07 - val_loss: 1.6062e-06 - val_mse: 1.6062e-06\n",
            "Epoch 38/40\n",
            "183/183 [==============================] - 1s 7ms/step - loss: 6.7701e-07 - mse: 6.7701e-07 - val_loss: 3.9974e-07 - val_mse: 3.9974e-07\n",
            "Epoch 39/40\n",
            "183/183 [==============================] - 1s 7ms/step - loss: 7.9020e-07 - mse: 7.9020e-07 - val_loss: 5.5142e-07 - val_mse: 5.5142e-07\n",
            "Epoch 40/40\n",
            "183/183 [==============================] - 1s 7ms/step - loss: 7.4610e-07 - mse: 7.4610e-07 - val_loss: 1.2262e-06 - val_mse: 1.2262e-06\n",
            "0-th R2-score: 0.80\n",
            "1-th R2-score: 0.85\n",
            "2-th R2-score: 0.91\n",
            "3-th R2-score: 0.78\n",
            "4-th R2-score: 0.66\n",
            "5-th R2-score: 0.70\n"
          ]
        }
      ]
    },
    {
      "cell_type": "markdown",
      "source": [
        "# Q2"
      ],
      "metadata": {
        "id": "WZlZcWMpBs-J"
      }
    },
    {
      "cell_type": "code",
      "source": [
        "def residual_block(x, n_filter, dilation):\n",
        "  original_x = x\n",
        "  \n",
        "  sig = Conv1D(n_filter, 3, dilation_rate=dilation, padding='same', use_bias=False, activation=\"sigmoid\")(x)\n",
        "  tanh = Conv1D(n_filter, 3, dilation_rate=dilation, padding='same', use_bias=False, activation=\"tanh\")(x)\n",
        "  x = Multiply()([tanh, sig])\n",
        "  x = Conv1D(n_filter, 1, padding='same', use_bias=False)(x)\n",
        "  skip_x = x\n",
        "  x = Add()([original_x, x])\n",
        "\n",
        "  return x, skip_x"
      ],
      "metadata": {
        "id": "xIzXwAwLBuSN"
      },
      "execution_count": 160,
      "outputs": []
    },
    {
      "cell_type": "code",
      "source": [
        "def WaveNet(input_shape, n_stack, n_filter, dilation_lim):\n",
        "  input = Input(shape=input_shape)\n",
        "  skip_connections = []\n",
        "  x = Conv1D(n_filter, 3, padding='causal', strides=1)(input)\n",
        "\n",
        "  for _ in range(n_stack):\n",
        "    for i in range(0, dilation_lim):\n",
        "      dilation = 2**i\n",
        "      x, skip_x = residual_block(x, n_filter, dilation)\n",
        "      skip_connections.append(skip_x)\n",
        "\n",
        "  x = Add()(skip_connections)\n",
        "  x_1 = Activation('relu')(x)\n",
        "  x_2 = Conv1D(n_filter, 1, padding='same')(x_1)\n",
        "  x_3 = Activation('relu')(x_2)\n",
        "  x_4 = Conv1D(1, 1, padding='same')(x_3)\n",
        "  x = x_4[:,-6:,:]\n",
        "\n",
        "  return input, x"
      ],
      "metadata": {
        "id": "AWQj-RLcMJ1C"
      },
      "execution_count": 180,
      "outputs": []
    },
    {
      "cell_type": "code",
      "source": [
        "input, out = WaveNet((6, 1) , 1, 64, 5)\n",
        "model = Model(input, out)\n",
        "model.compile(loss='mse', optimizer='adam', metrics=['mse'])\n",
        "model.summary()"
      ],
      "metadata": {
        "colab": {
          "base_uri": "https://localhost:8080/"
        },
        "id": "4AuUIIJfPtoO",
        "outputId": "8b9c66e3-0e0d-48c7-a1b3-88ab7bb16778"
      },
      "execution_count": 181,
      "outputs": [
        {
          "output_type": "stream",
          "name": "stdout",
          "text": [
            "Model: \"model_30\"\n",
            "__________________________________________________________________________________________________\n",
            " Layer (type)                   Output Shape         Param #     Connected to                     \n",
            "==================================================================================================\n",
            " input_30 (InputLayer)          [(None, 6, 1)]       0           []                               \n",
            "                                                                                                  \n",
            " conv1d_1694 (Conv1D)           (None, 6, 64)        256         ['input_30[0][0]']               \n",
            "                                                                                                  \n",
            " conv1d_1696 (Conv1D)           (None, 6, 64)        12288       ['conv1d_1694[0][0]']            \n",
            "                                                                                                  \n",
            " conv1d_1695 (Conv1D)           (None, 6, 64)        12288       ['conv1d_1694[0][0]']            \n",
            "                                                                                                  \n",
            " multiply_409 (Multiply)        (None, 6, 64)        0           ['conv1d_1696[0][0]',            \n",
            "                                                                  'conv1d_1695[0][0]']            \n",
            "                                                                                                  \n",
            " conv1d_1697 (Conv1D)           (None, 6, 64)        4096        ['multiply_409[0][0]']           \n",
            "                                                                                                  \n",
            " add_437 (Add)                  (None, 6, 64)        0           ['conv1d_1694[0][0]',            \n",
            "                                                                  'conv1d_1697[0][0]']            \n",
            "                                                                                                  \n",
            " conv1d_1699 (Conv1D)           (None, 6, 64)        12288       ['add_437[0][0]']                \n",
            "                                                                                                  \n",
            " conv1d_1698 (Conv1D)           (None, 6, 64)        12288       ['add_437[0][0]']                \n",
            "                                                                                                  \n",
            " multiply_410 (Multiply)        (None, 6, 64)        0           ['conv1d_1699[0][0]',            \n",
            "                                                                  'conv1d_1698[0][0]']            \n",
            "                                                                                                  \n",
            " conv1d_1700 (Conv1D)           (None, 6, 64)        4096        ['multiply_410[0][0]']           \n",
            "                                                                                                  \n",
            " add_438 (Add)                  (None, 6, 64)        0           ['add_437[0][0]',                \n",
            "                                                                  'conv1d_1700[0][0]']            \n",
            "                                                                                                  \n",
            " conv1d_1702 (Conv1D)           (None, 6, 64)        12288       ['add_438[0][0]']                \n",
            "                                                                                                  \n",
            " conv1d_1701 (Conv1D)           (None, 6, 64)        12288       ['add_438[0][0]']                \n",
            "                                                                                                  \n",
            " multiply_411 (Multiply)        (None, 6, 64)        0           ['conv1d_1702[0][0]',            \n",
            "                                                                  'conv1d_1701[0][0]']            \n",
            "                                                                                                  \n",
            " conv1d_1703 (Conv1D)           (None, 6, 64)        4096        ['multiply_411[0][0]']           \n",
            "                                                                                                  \n",
            " add_439 (Add)                  (None, 6, 64)        0           ['add_438[0][0]',                \n",
            "                                                                  'conv1d_1703[0][0]']            \n",
            "                                                                                                  \n",
            " conv1d_1705 (Conv1D)           (None, 6, 64)        12288       ['add_439[0][0]']                \n",
            "                                                                                                  \n",
            " conv1d_1704 (Conv1D)           (None, 6, 64)        12288       ['add_439[0][0]']                \n",
            "                                                                                                  \n",
            " multiply_412 (Multiply)        (None, 6, 64)        0           ['conv1d_1705[0][0]',            \n",
            "                                                                  'conv1d_1704[0][0]']            \n",
            "                                                                                                  \n",
            " conv1d_1706 (Conv1D)           (None, 6, 64)        4096        ['multiply_412[0][0]']           \n",
            "                                                                                                  \n",
            " add_440 (Add)                  (None, 6, 64)        0           ['add_439[0][0]',                \n",
            "                                                                  'conv1d_1706[0][0]']            \n",
            "                                                                                                  \n",
            " conv1d_1708 (Conv1D)           (None, 6, 64)        12288       ['add_440[0][0]']                \n",
            "                                                                                                  \n",
            " conv1d_1707 (Conv1D)           (None, 6, 64)        12288       ['add_440[0][0]']                \n",
            "                                                                                                  \n",
            " multiply_413 (Multiply)        (None, 6, 64)        0           ['conv1d_1708[0][0]',            \n",
            "                                                                  'conv1d_1707[0][0]']            \n",
            "                                                                                                  \n",
            " conv1d_1709 (Conv1D)           (None, 6, 64)        4096        ['multiply_413[0][0]']           \n",
            "                                                                                                  \n",
            " add_442 (Add)                  (None, 6, 64)        0           ['conv1d_1697[0][0]',            \n",
            "                                                                  'conv1d_1700[0][0]',            \n",
            "                                                                  'conv1d_1703[0][0]',            \n",
            "                                                                  'conv1d_1706[0][0]',            \n",
            "                                                                  'conv1d_1709[0][0]']            \n",
            "                                                                                                  \n",
            " activation_83 (Activation)     (None, 6, 64)        0           ['add_442[0][0]']                \n",
            "                                                                                                  \n",
            " conv1d_1710 (Conv1D)           (None, 6, 64)        4160        ['activation_83[0][0]']          \n",
            "                                                                                                  \n",
            " activation_84 (Activation)     (None, 6, 64)        0           ['conv1d_1710[0][0]']            \n",
            "                                                                                                  \n",
            " conv1d_1711 (Conv1D)           (None, 6, 1)         65          ['activation_84[0][0]']          \n",
            "                                                                                                  \n",
            " tf.__operators__.getitem_5 (Sl  (None, 6, 1)        0           ['conv1d_1711[0][0]']            \n",
            " icingOpLambda)                                                                                   \n",
            "                                                                                                  \n",
            "==================================================================================================\n",
            "Total params: 147,841\n",
            "Trainable params: 147,841\n",
            "Non-trainable params: 0\n",
            "__________________________________________________________________________________________________\n"
          ]
        }
      ]
    },
    {
      "cell_type": "code",
      "source": [
        "start = time.time()\n",
        "history = model.fit(X_train, y_train, batch_size=32, epochs=40, validation_data=(X_test, y_test))\n",
        "stop = time.time()\n",
        "times.append(stop-start)"
      ],
      "metadata": {
        "colab": {
          "base_uri": "https://localhost:8080/"
        },
        "id": "WD394nSUPyVP",
        "outputId": "b8a60fd1-2624-4837-dc35-9f55e6578122"
      },
      "execution_count": 182,
      "outputs": [
        {
          "output_type": "stream",
          "name": "stdout",
          "text": [
            "Epoch 1/40\n",
            "183/183 [==============================] - 5s 20ms/step - loss: 1.9490e-04 - mse: 1.9490e-04 - val_loss: 1.8700e-06 - val_mse: 1.8700e-06\n",
            "Epoch 2/40\n",
            "183/183 [==============================] - 3s 18ms/step - loss: 1.6653e-06 - mse: 1.6653e-06 - val_loss: 1.5784e-06 - val_mse: 1.5784e-06\n",
            "Epoch 3/40\n",
            "183/183 [==============================] - 3s 18ms/step - loss: 1.4307e-06 - mse: 1.4307e-06 - val_loss: 1.2623e-06 - val_mse: 1.2623e-06\n",
            "Epoch 4/40\n",
            "183/183 [==============================] - 3s 18ms/step - loss: 1.1730e-06 - mse: 1.1730e-06 - val_loss: 1.2345e-06 - val_mse: 1.2345e-06\n",
            "Epoch 5/40\n",
            "183/183 [==============================] - 3s 18ms/step - loss: 9.3639e-07 - mse: 9.3639e-07 - val_loss: 1.0360e-06 - val_mse: 1.0360e-06\n",
            "Epoch 6/40\n",
            "183/183 [==============================] - 3s 18ms/step - loss: 1.0966e-06 - mse: 1.0966e-06 - val_loss: 1.6853e-06 - val_mse: 1.6853e-06\n",
            "Epoch 7/40\n",
            "183/183 [==============================] - 3s 18ms/step - loss: 8.1943e-07 - mse: 8.1943e-07 - val_loss: 6.7306e-07 - val_mse: 6.7306e-07\n",
            "Epoch 8/40\n",
            "183/183 [==============================] - 3s 19ms/step - loss: 7.4452e-07 - mse: 7.4452e-07 - val_loss: 6.5611e-07 - val_mse: 6.5611e-07\n",
            "Epoch 9/40\n",
            "183/183 [==============================] - 3s 18ms/step - loss: 8.3144e-07 - mse: 8.3144e-07 - val_loss: 1.5788e-06 - val_mse: 1.5788e-06\n",
            "Epoch 10/40\n",
            "183/183 [==============================] - 3s 18ms/step - loss: 8.9536e-07 - mse: 8.9536e-07 - val_loss: 7.5735e-07 - val_mse: 7.5735e-07\n",
            "Epoch 11/40\n",
            "183/183 [==============================] - 3s 18ms/step - loss: 9.0959e-07 - mse: 9.0959e-07 - val_loss: 9.2976e-07 - val_mse: 9.2976e-07\n",
            "Epoch 12/40\n",
            "183/183 [==============================] - 3s 19ms/step - loss: 1.0429e-06 - mse: 1.0429e-06 - val_loss: 8.3675e-07 - val_mse: 8.3675e-07\n",
            "Epoch 13/40\n",
            "183/183 [==============================] - 3s 18ms/step - loss: 8.4662e-07 - mse: 8.4662e-07 - val_loss: 6.4747e-07 - val_mse: 6.4747e-07\n",
            "Epoch 14/40\n",
            "183/183 [==============================] - 3s 18ms/step - loss: 7.4537e-07 - mse: 7.4537e-07 - val_loss: 5.7657e-07 - val_mse: 5.7657e-07\n",
            "Epoch 15/40\n",
            "183/183 [==============================] - 3s 18ms/step - loss: 8.7917e-07 - mse: 8.7917e-07 - val_loss: 1.1294e-06 - val_mse: 1.1294e-06\n",
            "Epoch 16/40\n",
            "183/183 [==============================] - 3s 18ms/step - loss: 8.8679e-07 - mse: 8.8679e-07 - val_loss: 8.6011e-07 - val_mse: 8.6011e-07\n",
            "Epoch 17/40\n",
            "183/183 [==============================] - 3s 19ms/step - loss: 9.9751e-07 - mse: 9.9751e-07 - val_loss: 1.7680e-06 - val_mse: 1.7680e-06\n",
            "Epoch 18/40\n",
            "183/183 [==============================] - 3s 19ms/step - loss: 9.1601e-07 - mse: 9.1601e-07 - val_loss: 6.3554e-07 - val_mse: 6.3554e-07\n",
            "Epoch 19/40\n",
            "183/183 [==============================] - 4s 19ms/step - loss: 8.1869e-07 - mse: 8.1869e-07 - val_loss: 1.0564e-06 - val_mse: 1.0564e-06\n",
            "Epoch 20/40\n",
            "183/183 [==============================] - 3s 18ms/step - loss: 1.0344e-06 - mse: 1.0344e-06 - val_loss: 3.1429e-06 - val_mse: 3.1429e-06\n",
            "Epoch 21/40\n",
            "183/183 [==============================] - 3s 18ms/step - loss: 1.3973e-06 - mse: 1.3973e-06 - val_loss: 6.0357e-07 - val_mse: 6.0357e-07\n",
            "Epoch 22/40\n",
            "183/183 [==============================] - 3s 18ms/step - loss: 8.1346e-07 - mse: 8.1346e-07 - val_loss: 6.1796e-07 - val_mse: 6.1796e-07\n",
            "Epoch 23/40\n",
            "183/183 [==============================] - 3s 18ms/step - loss: 9.4672e-07 - mse: 9.4672e-07 - val_loss: 8.5007e-07 - val_mse: 8.5007e-07\n",
            "Epoch 24/40\n",
            "183/183 [==============================] - 3s 18ms/step - loss: 9.8822e-07 - mse: 9.8822e-07 - val_loss: 6.6197e-07 - val_mse: 6.6197e-07\n",
            "Epoch 25/40\n",
            "183/183 [==============================] - 3s 19ms/step - loss: 9.6219e-07 - mse: 9.6219e-07 - val_loss: 1.3984e-06 - val_mse: 1.3984e-06\n",
            "Epoch 26/40\n",
            "183/183 [==============================] - 3s 18ms/step - loss: 1.0917e-06 - mse: 1.0917e-06 - val_loss: 1.5915e-06 - val_mse: 1.5915e-06\n",
            "Epoch 27/40\n",
            "183/183 [==============================] - 3s 18ms/step - loss: 1.0387e-06 - mse: 1.0387e-06 - val_loss: 6.3329e-07 - val_mse: 6.3329e-07\n",
            "Epoch 28/40\n",
            "183/183 [==============================] - 3s 18ms/step - loss: 1.1135e-06 - mse: 1.1135e-06 - val_loss: 7.7058e-07 - val_mse: 7.7058e-07\n",
            "Epoch 29/40\n",
            "183/183 [==============================] - 3s 18ms/step - loss: 8.5055e-07 - mse: 8.5055e-07 - val_loss: 1.1716e-06 - val_mse: 1.1716e-06\n",
            "Epoch 30/40\n",
            "183/183 [==============================] - 3s 18ms/step - loss: 9.7866e-07 - mse: 9.7866e-07 - val_loss: 8.0021e-07 - val_mse: 8.0021e-07\n",
            "Epoch 31/40\n",
            "183/183 [==============================] - 3s 18ms/step - loss: 7.2778e-07 - mse: 7.2778e-07 - val_loss: 7.7810e-07 - val_mse: 7.7810e-07\n",
            "Epoch 32/40\n",
            "183/183 [==============================] - 3s 18ms/step - loss: 8.0092e-07 - mse: 8.0092e-07 - val_loss: 1.1130e-06 - val_mse: 1.1130e-06\n",
            "Epoch 33/40\n",
            "183/183 [==============================] - 3s 18ms/step - loss: 1.0005e-06 - mse: 1.0005e-06 - val_loss: 5.4198e-07 - val_mse: 5.4198e-07\n",
            "Epoch 34/40\n",
            "183/183 [==============================] - 3s 19ms/step - loss: 9.6223e-07 - mse: 9.6223e-07 - val_loss: 8.6927e-07 - val_mse: 8.6927e-07\n",
            "Epoch 35/40\n",
            "183/183 [==============================] - 3s 19ms/step - loss: 8.0196e-07 - mse: 8.0196e-07 - val_loss: 6.3951e-07 - val_mse: 6.3951e-07\n",
            "Epoch 36/40\n",
            "183/183 [==============================] - 3s 19ms/step - loss: 8.5866e-07 - mse: 8.5866e-07 - val_loss: 5.2380e-07 - val_mse: 5.2380e-07\n",
            "Epoch 37/40\n",
            "183/183 [==============================] - 3s 18ms/step - loss: 1.0315e-06 - mse: 1.0315e-06 - val_loss: 1.9104e-06 - val_mse: 1.9104e-06\n",
            "Epoch 38/40\n",
            "183/183 [==============================] - 3s 18ms/step - loss: 8.2944e-07 - mse: 8.2944e-07 - val_loss: 1.4092e-06 - val_mse: 1.4092e-06\n",
            "Epoch 39/40\n",
            "183/183 [==============================] - 3s 18ms/step - loss: 7.6340e-07 - mse: 7.6340e-07 - val_loss: 5.0382e-07 - val_mse: 5.0382e-07\n",
            "Epoch 40/40\n",
            "183/183 [==============================] - 3s 18ms/step - loss: 8.2410e-07 - mse: 8.2410e-07 - val_loss: 7.2603e-07 - val_mse: 7.2603e-07\n"
          ]
        }
      ]
    },
    {
      "cell_type": "code",
      "source": [
        "y_pred = model.predict(X_test).reshape(X_test.shape[0], 6)\n",
        "preds.append(y_pred)\n",
        "for i in range(6):\n",
        "  print('%d-th R2-score: %.2f' % (i, r2_score(y_test[i], y_pred[:,i])))"
      ],
      "metadata": {
        "colab": {
          "base_uri": "https://localhost:8080/"
        },
        "id": "4kiYvLw4P7xe",
        "outputId": "74f7e853-518c-42b9-a564-ebaf9ac1f8c8"
      },
      "execution_count": 191,
      "outputs": [
        {
          "output_type": "stream",
          "name": "stdout",
          "text": [
            "0-th R2-score: 0.92\n",
            "1-th R2-score: 0.92\n",
            "2-th R2-score: 0.85\n",
            "3-th R2-score: 0.85\n",
            "4-th R2-score: 0.85\n",
            "5-th R2-score: 0.84\n"
          ]
        }
      ]
    },
    {
      "cell_type": "markdown",
      "source": [
        "# Compare Models"
      ],
      "metadata": {
        "id": "7JhLaaNFrD8g"
      }
    },
    {
      "cell_type": "markdown",
      "source": [
        "Accuracy"
      ],
      "metadata": {
        "id": "sI07gD_0lYqB"
      }
    },
    {
      "cell_type": "code",
      "source": [
        "for pred in preds:\n",
        "  print(pred.shape)\n",
        "  m = np.log(y_test - pred).mean(axis=0)\n",
        "  plt.plot(m)\n",
        "lables = ['lr','mlp', 'lstm', 'gru', 'simple_rnn', 'WaveNet']\n",
        "plt.legend(lables)\n",
        "plt.show()"
      ],
      "metadata": {
        "colab": {
          "base_uri": "https://localhost:8080/",
          "height": 369
        },
        "id": "npXy9kOSF0rQ",
        "outputId": "4153996f-6d49-467f-dc38-30aa5eec8aee"
      },
      "execution_count": 193,
      "outputs": [
        {
          "output_type": "stream",
          "name": "stdout",
          "text": [
            "(1462, 6)\n",
            "(1462, 6)\n",
            "(1462, 6)\n",
            "(1462, 6)\n",
            "(1462, 6)\n",
            "(1462, 6)\n"
          ]
        },
        {
          "output_type": "display_data",
          "data": {
            "image/png": "[encoded data removed]",
            "text/plain": [
              "<Figure size 432x288 with 1 Axes>"
            ]
          },
          "metadata": {
            "needs_background": "light"
          }
        }
      ]
    },
    {
      "cell_type": "markdown",
      "source": [
        "R2 Score"
      ],
      "metadata": {
        "id": "VOD5Y3HmlaN5"
      }
    },
    {
      "cell_type": "code",
      "source": [
        "for i in range(len(lables)):\n",
        "  print(lables[i])\n",
        "  pred = preds[i]\n",
        "  for j in range(6):\n",
        "    print('%d-th R2-score: %.2f' % (j, r2_score(y_test[i], y_pred[:,j])))"
      ],
      "metadata": {
        "id": "FSf1burgaKMi",
        "colab": {
          "base_uri": "https://localhost:8080/"
        },
        "outputId": "45311d07-e2b6-49f9-f94d-1bc0019c1798"
      },
      "execution_count": 194,
      "outputs": [
        {
          "output_type": "stream",
          "name": "stdout",
          "text": [
            "lr\n",
            "0-th R2-score: 0.92\n",
            "1-th R2-score: 0.93\n",
            "2-th R2-score: 0.89\n",
            "3-th R2-score: 0.91\n",
            "4-th R2-score: 0.92\n",
            "5-th R2-score: 0.93\n",
            "mlp\n",
            "0-th R2-score: 0.91\n",
            "1-th R2-score: 0.92\n",
            "2-th R2-score: 0.87\n",
            "3-th R2-score: 0.89\n",
            "4-th R2-score: 0.90\n",
            "5-th R2-score: 0.91\n",
            "lstm\n",
            "0-th R2-score: 0.89\n",
            "1-th R2-score: 0.90\n",
            "2-th R2-score: 0.85\n",
            "3-th R2-score: 0.87\n",
            "4-th R2-score: 0.88\n",
            "5-th R2-score: 0.90\n",
            "gru\n",
            "0-th R2-score: 0.87\n",
            "1-th R2-score: 0.88\n",
            "2-th R2-score: 0.83\n",
            "3-th R2-score: 0.85\n",
            "4-th R2-score: 0.86\n",
            "5-th R2-score: 0.88\n",
            "simple_rnn\n",
            "0-th R2-score: 0.85\n",
            "1-th R2-score: 0.86\n",
            "2-th R2-score: 0.81\n",
            "3-th R2-score: 0.84\n",
            "4-th R2-score: 0.85\n",
            "5-th R2-score: 0.86\n",
            "WaveNet\n",
            "0-th R2-score: 0.84\n",
            "1-th R2-score: 0.84\n",
            "2-th R2-score: 0.80\n",
            "3-th R2-score: 0.82\n",
            "4-th R2-score: 0.83\n",
            "5-th R2-score: 0.84\n"
          ]
        }
      ]
    },
    {
      "cell_type": "markdown",
      "source": [
        "Time"
      ],
      "metadata": {
        "id": "zDcCQcgLlcdB"
      }
    },
    {
      "cell_type": "code",
      "source": [
        "for i in range(len(lables)):\n",
        "  print(lables[i], \"=\", times[i])"
      ],
      "metadata": {
        "colab": {
          "base_uri": "https://localhost:8080/"
        },
        "id": "zVEMg7-zilog",
        "outputId": "95448ebe-0b5c-4c97-e982-33f4f4945ebd"
      },
      "execution_count": 195,
      "outputs": [
        {
          "output_type": "stream",
          "name": "stdout",
          "text": [
            "lr = 0.016170501708984375\n",
            "mlp = 82.372230052948\n",
            "lstm = 152.00494980812073\n",
            "gru = 144.92892837524414\n",
            "simple_rnn = 52.336358070373535\n",
            "WaveNet = 123.21418857574463\n"
          ]
        }
      ]
    },
    {
      "cell_type": "code",
      "source": [
        ""
      ],
      "metadata": {
        "id": "pF0a6mOUC7gW"
      },
      "execution_count": null,
      "outputs": []
    }
  ]
}