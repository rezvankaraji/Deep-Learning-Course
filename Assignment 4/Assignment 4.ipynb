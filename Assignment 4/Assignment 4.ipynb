{
 "cells": [
  {
   "cell_type": "code",
   "execution_count": null,
   "metadata": {
    "id": "B_k96-N8zRuH"
   },
   "outputs": [],
   "source": [
    "from keras.models import Model\n",
    "from keras.datasets import cifar10\n",
    "from keras.layers.merge import concatenate\n",
    "from keras.callbacks import ModelCheckpoint\n",
    "from keras.layers.convolutional import Conv2D\n",
    "from tensorflow.keras.utils import to_categorical\n",
    "from keras.preprocessing.image import ImageDataGenerator\n",
    "from keras.layers.pooling import AveragePooling2D, GlobalAveragePooling2D\n",
    "from keras.layers import Dense, Dropout, Activation, BatchNormalization, Input"
   ]
  },
  {
   "cell_type": "code",
   "execution_count": null,
   "metadata": {
    "colab": {
     "base_uri": "https://localhost:8080/"
    },
    "id": "7qgn8EVU9Rct",
    "outputId": "65cbbea6-dbb8-4d76-f1de-e38cf518c949"
   },
   "outputs": [],
   "source": [
    "# load dataset\n",
    "(X_train, Y_train), (X_test, Y_test) = cifar10.load_data()\n",
    "print('Train: X=%s, y=%s' % (X_train.shape, Y_train.shape))\n",
    "print('Test: X=%s, y=%s' % (X_test.shape, Y_test.shape))"
   ]
  },
  {
   "cell_type": "code",
   "execution_count": null,
   "metadata": {
    "id": "LwulL2xMKGMN"
   },
   "outputs": [],
   "source": [
    "# Change the labels from integer to categorical data\n",
    "y_train = to_categorical(Y_train)\n",
    "y_test = to_categorical(Y_test)"
   ]
  },
  {
   "cell_type": "code",
   "execution_count": null,
   "metadata": {
    "id": "q_GlVIMN178y"
   },
   "outputs": [],
   "source": [
    "def composite_function(ip, n_filter, bottleneck=False, dropout_rate=None):\n",
    "\n",
    "  x = BatchNormalization()(ip)\n",
    "  x = Activation('relu')(x)\n",
    "\n",
    "  # Bottleneck layers\n",
    "  if bottleneck:\n",
    "    x = Conv2D(n_filter * 4, kernel_size=(1, 1), padding='same', use_bias=False)(x)\n",
    "    x = BatchNormalization()(x)\n",
    "    x = Activation('relu')(x)\n",
    "  \n",
    "  x = Conv2D(n_filter, kernel_size=(3, 3), padding='same', use_bias=False)(x)\n",
    "\n",
    "  # Dropout layer after each convolutional layer except the first one.\n",
    "  if dropout_rate:\n",
    "    x = Dropout(dropout_rate)(x)\n",
    "\n",
    "  return x"
   ]
  },
  {
   "cell_type": "code",
   "execution_count": null,
   "metadata": {
    "id": "O-LkTm3wEPhg"
   },
   "outputs": [],
   "source": [
    "def dense_block(x, n_layers, n_filter, growth_rate, bottleneck=False, dropout_rate=None):\n",
    "\n",
    "  for i in range(n_layers):\n",
    "    cf = composite_function(x, n_filter, bottleneck, dropout_rate)\n",
    "    x = concatenate([x, cf])\n",
    "\n",
    "    n_filter += growth_rate\n",
    "\n",
    "  return x, n_filter"
   ]
  },
  {
   "cell_type": "code",
   "execution_count": null,
   "metadata": {
    "id": "SKNaLgUFEXKy"
   },
   "outputs": [],
   "source": [
    "def transition_block(ip, n_filter, compression=0.5):\n",
    "\n",
    "  x = BatchNormalization()(ip)\n",
    "  x = Activation('relu')(x)\n",
    "  x = Conv2D(int(n_filter * compression), kernel_size=(1, 1), padding='same', use_bias=False)(x)\n",
    "  x = AveragePooling2D((2, 2), strides=(2, 2))(x)\n",
    "\n",
    "  return x"
   ]
  },
  {
   "cell_type": "code",
   "execution_count": null,
   "metadata": {
    "id": "BVrV6W12xrdn"
   },
   "outputs": [],
   "source": [
    "def DenseNet(input_shape, n_dense_block=3, growth_rate=12, n_filter=-1, n_layers_per_block=-1, bottleneck=False, compression=0.0, dropout_rate=0.0, activation='softmax', n_classes=10):\n",
    "  \n",
    "  img_input = Input(shape=input_shape)\n",
    "\n",
    "  if n_filter == -1:\n",
    "    n_filter = 2 * growth_rate\n",
    "  \n",
    "  n_layers=0\n",
    "  final_n_layer=0\n",
    "  if n_layers_per_block == -1:\n",
    "    count = 12\n",
    "    if bottleneck:\n",
    "      count = count // 2\n",
    "    n_layers = [count for _ in range(n_dense_block)]\n",
    "    final_n_layer = count    \n",
    "  else:\n",
    "    n_layers = [n_layers_per_block for _ in range(n_dense_block)]\n",
    "    final_n_layer = n_layers_per_block\n",
    "\n",
    "  initial_kernel = (3,3)\n",
    "  initial_strides = (1, 1)\n",
    "\n",
    "  x = Conv2D(n_filter, initial_kernel, padding='same', strides=initial_strides, use_bias=False)(img_input)\n",
    "\n",
    "  for block_idx in range(n_dense_block - 1):\n",
    "    x, n_filter = dense_block(x, n_layers[block_idx], n_filter, growth_rate, bottleneck=bottleneck, dropout_rate=dropout_rate)\n",
    "    x = transition_block(x, n_filter, compression=compression)\n",
    "    n_filter = int(n_filter * compression)\n",
    "\n",
    "  # The last dense_block does not have a transition_block\n",
    "  x, n_filter = dense_block(x, final_n_layer, n_filter, growth_rate, bottleneck=bottleneck, dropout_rate=dropout_rate)\n",
    "\n",
    "  # x = BatchNormalization()(x)\n",
    "  # x = Activation('relu')(x)\n",
    "  x = GlobalAveragePooling2D()(x)\n",
    "  x = Dense(n_classes, activation=activation)(x)\n",
    "\n",
    "  model = Model(img_input, x)\n",
    "\n",
    "  return model"
   ]
  },
  {
   "cell_type": "code",
   "execution_count": null,
   "metadata": {
    "id": "2zt2Qc8iQrhr"
   },
   "outputs": [],
   "source": [
    "checkpoint_name = 'Weights-{epoch:03d}--{accuracy:.5f}.hdf5' \n",
    "checkpoint = ModelCheckpoint(checkpoint_name, monitor='accuracy', verbose = 1, save_best_only = True, mode ='auto')\n",
    "callbacks_list = [checkpoint]"
   ]
  },
  {
   "cell_type": "markdown",
   "metadata": {
    "id": "210-_b8CxEy1"
   },
   "source": [
    "## Without Bottleneck"
   ]
  },
  {
   "cell_type": "code",
   "execution_count": null,
   "metadata": {
    "id": "2wPDXhp2IehC"
   },
   "outputs": [],
   "source": [
    "model = DenseNet((32, 32, 3), n_dense_block=3, growth_rate=12, bottleneck=False, compression=0.5)\n",
    "model.summary()"
   ]
  },
  {
   "cell_type": "code",
   "execution_count": null,
   "metadata": {
    "id": "1afg52FQ5_Ze"
   },
   "outputs": [],
   "source": [
    "model.compile(loss='categorical_crossentropy', optimizer = 'Adam', metrics= ['accuracy'])"
   ]
  },
  {
   "cell_type": "code",
   "execution_count": null,
   "metadata": {
    "colab": {
     "base_uri": "https://localhost:8080/"
    },
    "id": "1HJ60clpE-Sz",
    "outputId": "2678aee8-a5b2-4902-d871-785dd58c77f1"
   },
   "outputs": [],
   "source": [
    "history_wb = model.fit(X_train, y_train, epochs=40, batch_size=64, validation_split = 0.2, callbacks=callbacks_list, workers=-1)"
   ]
  },
  {
   "cell_type": "code",
   "execution_count": null,
   "metadata": {
    "id": "T_FeUKXuOIl2"
   },
   "outputs": [],
   "source": [
    "loss_wb, acc_wb = model.evaluate(X_test, y_test)\n",
    "display(loss_wb, acc_wb)"
   ]
  },
  {
   "cell_type": "markdown",
   "metadata": {
    "id": "6Rbm3Kszxguy"
   },
   "source": [
    "## With Bottleneck"
   ]
  },
  {
   "cell_type": "code",
   "execution_count": null,
   "metadata": {
    "id": "CvKSDBRdxfwf"
   },
   "outputs": [],
   "source": [
    "model = DenseNet((32, 32, 3), n_dense_block=3, growth_rate=12, bottleneck=True, compression=0.5)\n",
    "model.summary()"
   ]
  },
  {
   "cell_type": "code",
   "execution_count": null,
   "metadata": {
    "id": "U-APBrBtxfwi"
   },
   "outputs": [],
   "source": [
    "model.compile(loss='categorical_crossentropy', optimizer = 'Adam', metrics= ['accuracy'])"
   ]
  },
  {
   "cell_type": "code",
   "execution_count": null,
   "metadata": {
    "id": "-T6dKNEkxfwl"
   },
   "outputs": [],
   "source": [
    "history_b = model.fit(X_train, y_train, epochs=40, batch_size=64, validation_split = 0.2, callbacks=callbacks_list, workers=-1)"
   ]
  },
  {
   "cell_type": "code",
   "execution_count": null,
   "metadata": {
    "id": "3Q4sU36_xsX_"
   },
   "outputs": [],
   "source": [
    "loss_b, acc_b = model.evaluate(X_test, y_test)\n",
    "display(loss_b, acc_b)"
   ]
  },
  {
   "cell_type": "markdown",
   "metadata": {
    "id": "pFvQh6b4x3Yi"
   },
   "source": [
    "## Dropout rate 20%"
   ]
  },
  {
   "cell_type": "code",
   "execution_count": null,
   "metadata": {
    "id": "kExzv6hux1y1"
   },
   "outputs": [],
   "source": [
    "model = DenseNet((32, 32, 3), n_dense_block=3, growth_rate=12, bottleneck=True, compression=0.5, dropout_rate=0.2)\n",
    "model.summary()"
   ]
  },
  {
   "cell_type": "code",
   "execution_count": null,
   "metadata": {
    "id": "-I23XSdBx1y5"
   },
   "outputs": [],
   "source": [
    "model.compile(loss='categorical_crossentropy', optimizer = 'Adam', metrics= ['accuracy'])"
   ]
  },
  {
   "cell_type": "code",
   "execution_count": null,
   "metadata": {
    "id": "EJXljeSux1y7"
   },
   "outputs": [],
   "source": [
    "history_drop = model.fit(X_train, y_train, epochs=40, batch_size=64, validation_split = 0.2, callbacks=callbacks_list, workers=-1)"
   ]
  },
  {
   "cell_type": "code",
   "execution_count": null,
   "metadata": {
    "id": "jZSvVNzvyv0n"
   },
   "outputs": [],
   "source": [
    "loss_drop, acc_drop = model.evaluate(X_test, y_test)\n",
    "display(loss_drop, acc_drop)"
   ]
  },
  {
   "cell_type": "markdown",
   "metadata": {
    "id": "tUL3QJB_yw-h"
   },
   "source": [
    "## Data Augmentation"
   ]
  },
  {
   "cell_type": "markdown",
   "metadata": {
    "id": "_XX3BVKwgJLv"
   },
   "source": [
    " Best Performance"
   ]
  },
  {
   "cell_type": "code",
   "execution_count": null,
   "metadata": {
    "id": "HQ4XYqvNywJU"
   },
   "outputs": [],
   "source": [
    "model = DenseNet((32, 32, 3), n_dense_block=3, growth_rate=12, bottleneck=True, compression=0.5)\n",
    "model.summary()"
   ]
  },
  {
   "cell_type": "code",
   "execution_count": null,
   "metadata": {
    "id": "jbLW2ZZrywJV"
   },
   "outputs": [],
   "source": [
    "model.compile(loss='categorical_crossentropy', optimizer = 'Adam', metrics= ['accuracy'])"
   ]
  },
  {
   "cell_type": "code",
   "execution_count": null,
   "metadata": {
    "id": "en3xaW1ZzLcX"
   },
   "outputs": [],
   "source": [
    "generator = ImageDataGenerator(rotation_range=15, width_shift_range=5./32, height_shift_range=5./32, horizontal_flip=True)\n",
    "generator.fit(X_train, seed=0)"
   ]
  },
  {
   "cell_type": "code",
   "execution_count": null,
   "metadata": {
    "id": "mt6lyRlnzZec"
   },
   "outputs": [],
   "source": [
    "history_aug = model.fit_generator(generator.flow(X_train, y_train, batch_size=64),\n",
    "                    steps_per_epoch=len(X_train) // 64, epochs=40,\n",
    "                    callbacks=callbacks_list,\n",
    "                    verbose=1, workers=-1)"
   ]
  },
  {
   "cell_type": "code",
   "execution_count": null,
   "metadata": {
    "id": "J7U_lBVs2McA"
   },
   "outputs": [],
   "source": [
    "loss_aug, acc_aug = model.evaluate(X_test, y_test)\n",
    "display(loss_aug, acc_aug)"
   ]
  }
 ],
 "metadata": {
  "accelerator": "GPU",
  "colab": {
   "name": "Deep4",
   "provenance": []
  },
  "kernelspec": {
   "display_name": "Python 3 (ipykernel)",
   "language": "python",
   "name": "python3"
  },
  "language_info": {
   "codemirror_mode": {
    "name": "ipython",
    "version": 3
   },
   "file_extension": ".py",
   "mimetype": "text/x-python",
   "name": "python",
   "nbconvert_exporter": "python",
   "pygments_lexer": "ipython3",
   "version": "3.8.10"
  }
 },
 "nbformat": 4,
 "nbformat_minor": 1
}
