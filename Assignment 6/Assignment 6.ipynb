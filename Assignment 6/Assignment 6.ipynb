{
  "nbformat": 4,
  "nbformat_minor": 0,
  "metadata": {
    "colab": {
      "name": "Deep6.ipynb",
      "provenance": []
    },
    "kernelspec": {
      "name": "python3",
      "display_name": "Python 3"
    },
    "language_info": {
      "name": "python"
    }
  },
  "cells": [
    {
      "cell_type": "code",
      "source": [
        "import copy\n",
        "import numpy as np\n",
        "import tensorflow as tf\n",
        "import matplotlib.pyplot as plt\n",
        "from tensorflow.image import ssim\n",
        "from tensorflow.keras.models import Model\n",
        "from sklearn.model_selection import train_test_split"
      ],
      "metadata": {
        "id": "VJPWmyw3v9eb"
      },
      "execution_count": 1,
      "outputs": []
    },
    {
      "cell_type": "markdown",
      "source": [
        "Load MNIST dataset"
      ],
      "metadata": {
        "id": "Mj096i0HvlO5"
      }
    },
    {
      "cell_type": "code",
      "source": [
        "(X_train, y_train), (X_test, y_test) = tf.keras.datasets.mnist.load_data()"
      ],
      "metadata": {
        "id": "7qgn8EVU9Rct"
      },
      "execution_count": 2,
      "outputs": []
    },
    {
      "cell_type": "markdown",
      "source": [
        "Generate dataset for outlier detection"
      ],
      "metadata": {
        "id": "YfPmf24PL9K8"
      }
    },
    {
      "cell_type": "code",
      "source": [
        "# Treat digit “0” as the regular classt, import all images from class 0\n",
        "regular = X_train[y_train==0]\n",
        "# and digit “6” as the outlier class, and add 500 images of class 6\n",
        "outlier = X_train[y_train==6][:500]\n",
        "# Split your synthetic outlier dataset into 90% for training and 10% for testing.\n",
        "regular_train, regular_test = train_test_split(regular, test_size=0.1)"
      ],
      "metadata": {
        "id": "gX_r_EqzHpHm"
      },
      "execution_count": 3,
      "outputs": []
    },
    {
      "cell_type": "code",
      "source": [
        "regular_train = tf.cast(regular_train, tf.float32)/ 255\n",
        "regular_test = tf.cast(regular_test, tf.float32)/ 255\n",
        "outlier = tf.cast(outlier, tf.float32)/ 255"
      ],
      "metadata": {
        "id": "kRpwPaFYFr6f"
      },
      "execution_count": 4,
      "outputs": []
    },
    {
      "cell_type": "markdown",
      "source": [
        "Both loss and ssim are worse for outlier class in both encoders"
      ],
      "metadata": {
        "id": "MHN3CLihfJIj"
      }
    },
    {
      "cell_type": "markdown",
      "source": [
        "#  standard densely connected autoencoder"
      ],
      "metadata": {
        "id": "EYoLnOvKVvpm"
      }
    },
    {
      "cell_type": "code",
      "source": [
        "class Autoencoder(Model):\n",
        "  def __init__(self, img_shape):\n",
        "    super(Autoencoder, self).__init__()\n",
        "    self.img_shape = img_shape   \n",
        "    self.encoder = tf.keras.Sequential([\n",
        "      tf.keras.layers.Flatten(),\n",
        "      tf.keras.layers.Dense(img_shape, activation='relu'),\n",
        "    ])\n",
        "    self.decoder = tf.keras.Sequential([\n",
        "      tf.keras.layers.Dense(784, activation='sigmoid'),\n",
        "      tf.keras.layers.Reshape((28, 28))\n",
        "    ])\n",
        "\n",
        "  def call(self, x):\n",
        "    encoded = self.encoder(x)\n",
        "    decoded = self.decoder(encoded)\n",
        "    return decoded\n",
        "\n",
        "autoencoder = Autoencoder(64)\n",
        "autoencoder.compile(optimizer='adam', loss=\"mse\")"
      ],
      "metadata": {
        "id": "-eXVEI4HV0qZ"
      },
      "execution_count": 5,
      "outputs": []
    },
    {
      "cell_type": "code",
      "source": [
        "autoencoder.fit(regular_train, regular_train,\n",
        "                epochs=10,\n",
        "                shuffle=True,\n",
        "                validation_data=(regular_test, regular_test))"
      ],
      "metadata": {
        "colab": {
          "base_uri": "https://localhost:8080/"
        },
        "id": "Sfm4pddubvvW",
        "outputId": "c5da34d6-fdce-478b-941a-aa06b0595bcb"
      },
      "execution_count": 6,
      "outputs": [
        {
          "output_type": "stream",
          "name": "stdout",
          "text": [
            "Epoch 1/10\n",
            "167/167 [==============================] - 2s 8ms/step - loss: 0.0605 - val_loss: 0.0349\n",
            "Epoch 2/10\n",
            "167/167 [==============================] - 1s 8ms/step - loss: 0.0293 - val_loss: 0.0249\n",
            "Epoch 3/10\n",
            "167/167 [==============================] - 1s 7ms/step - loss: 0.0221 - val_loss: 0.0202\n",
            "Epoch 4/10\n",
            "167/167 [==============================] - 1s 7ms/step - loss: 0.0181 - val_loss: 0.0168\n",
            "Epoch 5/10\n",
            "167/167 [==============================] - 1s 7ms/step - loss: 0.0153 - val_loss: 0.0145\n",
            "Epoch 6/10\n",
            "167/167 [==============================] - 1s 7ms/step - loss: 0.0132 - val_loss: 0.0127\n",
            "Epoch 7/10\n",
            "167/167 [==============================] - 1s 7ms/step - loss: 0.0117 - val_loss: 0.0114\n",
            "Epoch 8/10\n",
            "167/167 [==============================] - 1s 7ms/step - loss: 0.0105 - val_loss: 0.0105\n",
            "Epoch 9/10\n",
            "167/167 [==============================] - 1s 7ms/step - loss: 0.0094 - val_loss: 0.0094\n",
            "Epoch 10/10\n",
            "167/167 [==============================] - 1s 7ms/step - loss: 0.0086 - val_loss: 0.0087\n"
          ]
        },
        {
          "output_type": "execute_result",
          "data": {
            "text/plain": [
              "<keras.callbacks.History at 0x7f4de75a5890>"
            ]
          },
          "metadata": {},
          "execution_count": 6
        }
      ]
    },
    {
      "cell_type": "markdown",
      "source": [
        "regular test data"
      ],
      "metadata": {
        "id": "mBGDvZwMdWnf"
      }
    },
    {
      "cell_type": "code",
      "source": [
        "encoded_imgs = autoencoder.encoder(regular_test).numpy()\n",
        "decoded_imgs = autoencoder.decoder(encoded_imgs).numpy()"
      ],
      "metadata": {
        "id": "nfprdAsTdvJD"
      },
      "execution_count": 7,
      "outputs": []
    },
    {
      "cell_type": "code",
      "source": [
        "autoencoder.evaluate(regular_test, regular_test)"
      ],
      "metadata": {
        "colab": {
          "base_uri": "https://localhost:8080/"
        },
        "id": "80HMrBXDdxz2",
        "outputId": "15984bbb-41f2-43cf-c2e1-d146bb8fa8ff"
      },
      "execution_count": 8,
      "outputs": [
        {
          "output_type": "stream",
          "name": "stdout",
          "text": [
            "19/19 [==============================] - 0s 2ms/step - loss: 0.0087\n"
          ]
        },
        {
          "output_type": "execute_result",
          "data": {
            "text/plain": [
              "0.008746592327952385"
            ]
          },
          "metadata": {},
          "execution_count": 8
        }
      ]
    },
    {
      "cell_type": "code",
      "source": [
        "ssim(decoded_imgs, regular_test, max_val=1.0).numpy()"
      ],
      "metadata": {
        "colab": {
          "base_uri": "https://localhost:8080/"
        },
        "id": "g8nJjtWSeu5K",
        "outputId": "286fb7da-58b8-403f-8a64-5f122ec44de1"
      },
      "execution_count": 9,
      "outputs": [
        {
          "output_type": "execute_result",
          "data": {
            "text/plain": [
              "0.9166092"
            ]
          },
          "metadata": {},
          "execution_count": 9
        }
      ]
    },
    {
      "cell_type": "code",
      "source": [
        "n = 10\n",
        "plt.figure(figsize=(20, 4))\n",
        "for i in range(n):\n",
        "  # display original\n",
        "  ax = plt.subplot(2, n, i + 1)\n",
        "  plt.imshow(regular_test[i])\n",
        "  plt.title(\"original\")\n",
        "  plt.gray()\n",
        "  ax.get_xaxis().set_visible(False)\n",
        "  ax.get_yaxis().set_visible(False)\n",
        "\n",
        "  # display reconstruction\n",
        "  ax = plt.subplot(2, n, i + 1 + n)\n",
        "  plt.imshow(decoded_imgs[i])\n",
        "  plt.title(\"reconstructed\")\n",
        "  plt.gray()\n",
        "  ax.get_xaxis().set_visible(False)\n",
        "  ax.get_yaxis().set_visible(False)\n",
        "plt.show()\n"
      ],
      "metadata": {
        "colab": {
          "base_uri": "https://localhost:8080/",
          "height": 264
        },
        "id": "8Ka75dqUcRwZ",
        "outputId": "69702589-7e1b-4233-9913-754fe6633106"
      },
      "execution_count": 10,
      "outputs": [
        {
          "output_type": "display_data",
          "data": {
            "text/plain": [
              "<Figure size 1440x288 with 20 Axes>"
            ],
            "image/png": "[encoded data removed]"
          },
          "metadata": {
            "needs_background": "light"
          }
        }
      ]
    },
    {
      "cell_type": "markdown",
      "source": [
        "outlier"
      ],
      "metadata": {
        "id": "5BoVnPuxdnKC"
      }
    },
    {
      "cell_type": "code",
      "source": [
        "encoded_imgs = autoencoder.encoder(outlier).numpy()\n",
        "decoded_imgs = autoencoder.decoder(encoded_imgs).numpy()"
      ],
      "metadata": {
        "id": "2eQUAEFxeK3u"
      },
      "execution_count": 11,
      "outputs": []
    },
    {
      "cell_type": "code",
      "source": [
        "autoencoder.evaluate(outlier, outlier)"
      ],
      "metadata": {
        "colab": {
          "base_uri": "https://localhost:8080/"
        },
        "id": "-1ZbbhfseL3A",
        "outputId": "53458a55-59f6-41ff-bf3e-7adf0da755b3"
      },
      "execution_count": 12,
      "outputs": [
        {
          "output_type": "stream",
          "name": "stdout",
          "text": [
            "16/16 [==============================] - 0s 2ms/step - loss: 0.0262\n"
          ]
        },
        {
          "output_type": "execute_result",
          "data": {
            "text/plain": [
              "0.026215458288788795"
            ]
          },
          "metadata": {},
          "execution_count": 12
        }
      ]
    },
    {
      "cell_type": "code",
      "source": [
        "ssim(decoded_imgs, outlier, max_val=1.0).numpy()"
      ],
      "metadata": {
        "colab": {
          "base_uri": "https://localhost:8080/"
        },
        "id": "9sgyCs39e6zq",
        "outputId": "17054a83-3411-4168-9b66-adaed2af9cf6"
      },
      "execution_count": 13,
      "outputs": [
        {
          "output_type": "execute_result",
          "data": {
            "text/plain": [
              "0.6511639"
            ]
          },
          "metadata": {},
          "execution_count": 13
        }
      ]
    },
    {
      "cell_type": "code",
      "source": [
        "n = 10\n",
        "plt.figure(figsize=(20, 4))\n",
        "for i in range(n):\n",
        "  # display original\n",
        "  ax = plt.subplot(2, n, i + 1)\n",
        "  plt.imshow(outlier[i])\n",
        "  plt.title(\"original\")\n",
        "  plt.gray()\n",
        "  ax.get_xaxis().set_visible(False)\n",
        "  ax.get_yaxis().set_visible(False)\n",
        "\n",
        "  # display reconstruction\n",
        "  ax = plt.subplot(2, n, i + 1 + n)\n",
        "  plt.imshow(decoded_imgs[i])\n",
        "  plt.title(\"reconstructed\")\n",
        "  plt.gray()\n",
        "  ax.get_xaxis().set_visible(False)\n",
        "  ax.get_yaxis().set_visible(False)\n",
        "plt.show()\n"
      ],
      "metadata": {
        "colab": {
          "base_uri": "https://localhost:8080/",
          "height": 264
        },
        "id": "snaViQXqdglk",
        "outputId": "595a6ffc-9a7c-4b48-89eb-1182be32c38b"
      },
      "execution_count": 14,
      "outputs": [
        {
          "output_type": "display_data",
          "data": {
            "text/plain": [
              "<Figure size 1440x288 with 20 Axes>"
            ],
            "image/png": "[encoded data removed]"
          },
          "metadata": {
            "needs_background": "light"
          }
        }
      ]
    },
    {
      "cell_type": "markdown",
      "source": [
        "#   convolutional autoencode"
      ],
      "metadata": {
        "id": "oqa46Ip6b_02"
      }
    },
    {
      "cell_type": "code",
      "source": [
        "# Reshape data\n",
        "regular_train = tf.image.resize(np.expand_dims(regular_train, axis=3), (32, 32))\n",
        "regular_test = tf.image.resize(np.expand_dims(regular_test, axis=3), (32, 32))\n",
        "outlier = tf.image.resize(np.expand_dims(outlier, axis=3), (32, 32))"
      ],
      "metadata": {
        "id": "Zgt_DNxRgkjB"
      },
      "execution_count": 15,
      "outputs": []
    },
    {
      "cell_type": "code",
      "source": [
        "class AdversarialAE(Model):\n",
        "  def __init__(self, img_shape, filters=[64,128]):\n",
        "    super(AdversarialAE, self).__init__()\n",
        "    self.img_shape = img_shape\n",
        "    self.filters = filters\n",
        "\n",
        "    self.encoder = self._build_encoder()\n",
        "    self.decoder = self._build_decoder()\n",
        "\n",
        "  def _build_encoder(self):\n",
        "\n",
        "    inputs = x = tf.keras.layers.Input(shape=self.img_shape)\n",
        "    for filter in self.filters:\n",
        "      x = tf.keras.layers.Conv2D(filter, 3, strides=2,\n",
        "                                 padding='same')(x)\n",
        "      if not filter==self.filters[-1]:\n",
        "        x = tf.keras.layers.BatchNormalization()(x)\n",
        "        x = tf.keras.layers.LeakyReLU(0.2)(x)\n",
        "\n",
        "    self.shape_before_flatten = tf.keras.backend.int_shape(x)[1:]\n",
        "    out = x\n",
        "\n",
        "    return tf.keras.models.Model(inputs, out)\n",
        "\n",
        "\n",
        "  def _build_decoder(self):\n",
        "\n",
        "    inputs = x = tf.keras.layers.Input(shape=self.shape_before_flatten)\n",
        "\n",
        "    filters = copy.copy(self.filters)\n",
        "    filters.reverse()\n",
        "    for filter in filters:\n",
        "      x = tf.keras.layers.Conv2DTranspose(filter, 3, strides=2,\n",
        "                                 padding='same')(x)\n",
        "      x = tf.keras.layers.BatchNormalization()(x)\n",
        "      x = tf.keras.layers.LeakyReLU(0.2)(x)\n",
        "    out = tf.keras.layers.Conv2D(self.img_shape[-1], 3, activation='sigmoid',\n",
        "                                          padding='same')(x)\n",
        "\n",
        "    return tf.keras.models.Model(inputs, out)\n",
        "\n",
        "  def call(self, x):\n",
        "    encoded = self.encoder(x)\n",
        "    decoded = self.decoder(encoded)\n",
        "    return decoded\n",
        "\n",
        "acai = AdversarialAE(img_shape=regular_train.shape[1:])\n",
        "acai.compile(optimizer='adam', loss=\"mse\")"
      ],
      "metadata": {
        "id": "X3ghAllJOW0i"
      },
      "execution_count": 16,
      "outputs": []
    },
    {
      "cell_type": "code",
      "source": [
        "acai.fit(regular_train, regular_train,\n",
        "                epochs=10,\n",
        "                shuffle=True,\n",
        "                validation_data=(regular_test, regular_test))"
      ],
      "metadata": {
        "colab": {
          "base_uri": "https://localhost:8080/"
        },
        "id": "AO380mOyOeJe",
        "outputId": "c9a2b4de-b214-4af0-ea0a-9eb3e5a33689"
      },
      "execution_count": 17,
      "outputs": [
        {
          "output_type": "stream",
          "name": "stdout",
          "text": [
            "Epoch 1/10\n",
            "167/167 [==============================] - 52s 307ms/step - loss: 0.0052 - val_loss: 0.0957\n",
            "Epoch 2/10\n",
            "167/167 [==============================] - 57s 341ms/step - loss: 7.3214e-04 - val_loss: 0.0671\n",
            "Epoch 3/10\n",
            "167/167 [==============================] - 57s 343ms/step - loss: 5.4478e-04 - val_loss: 0.0179\n",
            "Epoch 4/10\n",
            "167/167 [==============================] - 51s 306ms/step - loss: 4.1810e-04 - val_loss: 0.0016\n",
            "Epoch 5/10\n",
            "167/167 [==============================] - 51s 305ms/step - loss: 3.6453e-04 - val_loss: 0.0010\n",
            "Epoch 6/10\n",
            "167/167 [==============================] - 51s 306ms/step - loss: 3.2604e-04 - val_loss: 2.4138e-04\n",
            "Epoch 7/10\n",
            "167/167 [==============================] - 53s 315ms/step - loss: 3.5009e-04 - val_loss: 8.0530e-04\n",
            "Epoch 8/10\n",
            "167/167 [==============================] - 54s 324ms/step - loss: 3.3835e-04 - val_loss: 5.1124e-04\n",
            "Epoch 9/10\n",
            "167/167 [==============================] - 55s 332ms/step - loss: 2.9240e-04 - val_loss: 6.2176e-04\n",
            "Epoch 10/10\n",
            "167/167 [==============================] - 58s 347ms/step - loss: 2.2133e-04 - val_loss: 3.9915e-04\n"
          ]
        },
        {
          "output_type": "execute_result",
          "data": {
            "text/plain": [
              "<keras.callbacks.History at 0x7f4de3cb1b10>"
            ]
          },
          "metadata": {},
          "execution_count": 17
        }
      ]
    },
    {
      "cell_type": "markdown",
      "source": [
        "regular test data"
      ],
      "metadata": {
        "id": "a8z2cxhViDKe"
      }
    },
    {
      "cell_type": "code",
      "source": [
        "encoded_imgs = acai.encoder(regular_test).numpy()\n",
        "decoded_imgs = acai.decoder(encoded_imgs).numpy()"
      ],
      "metadata": {
        "id": "TuDHdyrGht_0"
      },
      "execution_count": 18,
      "outputs": []
    },
    {
      "cell_type": "code",
      "source": [
        "acai.evaluate(regular_test, regular_test)"
      ],
      "metadata": {
        "colab": {
          "base_uri": "https://localhost:8080/"
        },
        "outputId": "cfeae721-7d9e-488e-815c-cf94428c5841",
        "id": "SAJXDhpWht_1"
      },
      "execution_count": 19,
      "outputs": [
        {
          "output_type": "stream",
          "name": "stdout",
          "text": [
            "19/19 [==============================] - 2s 106ms/step - loss: 3.9915e-04\n"
          ]
        },
        {
          "output_type": "execute_result",
          "data": {
            "text/plain": [
              "0.00039915350498631597"
            ]
          },
          "metadata": {},
          "execution_count": 19
        }
      ]
    },
    {
      "cell_type": "code",
      "source": [
        "ssim(decoded_imgs, regular_test, max_val=1.0).numpy().mean()"
      ],
      "metadata": {
        "colab": {
          "base_uri": "https://localhost:8080/"
        },
        "outputId": "e379e963-0679-451f-d685-c34576b467c1",
        "id": "msM85Kdwht_2"
      },
      "execution_count": 20,
      "outputs": [
        {
          "output_type": "execute_result",
          "data": {
            "text/plain": [
              "0.9906122"
            ]
          },
          "metadata": {},
          "execution_count": 20
        }
      ]
    },
    {
      "cell_type": "markdown",
      "source": [
        "outlier"
      ],
      "metadata": {
        "id": "PgyoXpAhh9yB"
      }
    },
    {
      "cell_type": "code",
      "source": [
        "encoded_imgs = acai.encoder(outlier).numpy()\n",
        "decoded_imgs = acai.decoder(encoded_imgs).numpy()"
      ],
      "metadata": {
        "id": "LnWyWM6Ah9yC"
      },
      "execution_count": 21,
      "outputs": []
    },
    {
      "cell_type": "code",
      "source": [
        "acai.evaluate(outlier, outlier)"
      ],
      "metadata": {
        "colab": {
          "base_uri": "https://localhost:8080/"
        },
        "outputId": "0568ed27-ecfe-4d8c-f222-df28b506629a",
        "id": "u_blKkn3h9yE"
      },
      "execution_count": 22,
      "outputs": [
        {
          "output_type": "stream",
          "name": "stdout",
          "text": [
            "16/16 [==============================] - 2s 97ms/step - loss: 3.6347e-04\n"
          ]
        },
        {
          "output_type": "execute_result",
          "data": {
            "text/plain": [
              "0.0003634654567576945"
            ]
          },
          "metadata": {},
          "execution_count": 22
        }
      ]
    },
    {
      "cell_type": "code",
      "source": [
        "ssim(decoded_imgs, outlier, max_val=1.0).numpy().mean()"
      ],
      "metadata": {
        "colab": {
          "base_uri": "https://localhost:8080/"
        },
        "outputId": "31ca4973-468b-4055-a1a1-1eebecad3f42",
        "id": "jzoMVCu7h9yG"
      },
      "execution_count": 25,
      "outputs": [
        {
          "output_type": "execute_result",
          "data": {
            "text/plain": [
              "0.98390794"
            ]
          },
          "metadata": {},
          "execution_count": 25
        }
      ]
    },
    {
      "cell_type": "code",
      "source": [
        ""
      ],
      "metadata": {
        "id": "j7zI_7sAlZ-1"
      },
      "execution_count": 23,
      "outputs": []
    }
  ]
}