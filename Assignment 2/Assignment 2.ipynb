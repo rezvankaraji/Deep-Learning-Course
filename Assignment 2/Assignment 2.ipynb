{
  "nbformat": 4,
  "nbformat_minor": 0,
  "metadata": {
    "colab": {
      "name": "deep2.ipynb",
      "provenance": []
    },
    "kernelspec": {
      "name": "python3",
      "display_name": "Python 3"
    },
    "language_info": {
      "name": "python"
    },
    "accelerator": "GPU"
  },
  "cells": [
    {
      "cell_type": "code",
      "source": [
        "import time\n",
        "import numpy as np\n",
        "import pandas as pd\n",
        "from sklearn import svm\n",
        "import matplotlib.pyplot as plt\n",
        "from sklearn.metrics import accuracy_score\n",
        "from tensorflow.keras.datasets import mnist\n",
        "from sklearn.model_selection import GridSearchCV\n",
        "from tensorflow.keras.utils import to_categorical\n",
        "from sklearn.model_selection import RandomizedSearchCV"
      ],
      "metadata": {
        "id": "VJPWmyw3v9eb"
      },
      "execution_count": 1,
      "outputs": []
    },
    {
      "cell_type": "markdown",
      "source": [
        "# Load and slice MNIST dataset"
      ],
      "metadata": {
        "id": "Mj096i0HvlO5"
      }
    },
    {
      "cell_type": "markdown",
      "source": [
        "code ref : [url](https://stackoverflow.com/questions/52108685/is-it-possible-to-only-load-part-of-mnist-or-other-tuples)"
      ],
      "metadata": {
        "id": "Nl8mjcPRMYqx"
      }
    },
    {
      "cell_type": "code",
      "source": [
        "# load dataset\n",
        "(X_train, y_train), (X_test, y_test) = mnist.load_data()\n",
        "print('Train: X=%s, y=%s' % (X_train.shape, y_train.shape))\n",
        "print('Test: X=%s, y=%s' % (X_test.shape, y_test.shape))"
      ],
      "metadata": {
        "colab": {
          "base_uri": "https://localhost:8080/"
        },
        "id": "7qgn8EVU9Rct",
        "outputId": "b2e13dfe-8823-4114-fd0f-4889ead63d4a"
      },
      "execution_count": 2,
      "outputs": [
        {
          "output_type": "stream",
          "name": "stdout",
          "text": [
            "Downloading data from https://storage.googleapis.com/tensorflow/tf-keras-datasets/mnist.npz\n",
            "11493376/11490434 [==============================] - 0s 0us/step\n",
            "11501568/11490434 [==============================] - 0s 0us/step\n",
            "Train: X=(60000, 28, 28), y=(60000,)\n",
            "Test: X=(10000, 28, 28), y=(10000,)\n"
          ]
        }
      ]
    },
    {
      "cell_type": "code",
      "execution_count": 3,
      "metadata": {
        "colab": {
          "base_uri": "https://localhost:8080/",
          "height": 264
        },
        "id": "ZrjNeoUpuv3Q",
        "outputId": "d9f30422-8572-40fc-a65d-c280bdc2dbf2"
      },
      "outputs": [
        {
          "output_type": "display_data",
          "data": {
            "image/png": "[encoded data removed]",
            "text/plain": [
              "<Figure size 432x288 with 9 Axes>"
            ]
          },
          "metadata": {
            "needs_background": "light"
          }
        }
      ],
      "source": [
        "# plot first 9 images\n",
        "for i in range(9):\n",
        "\tplt.subplot(330 + 1 + i)\n",
        "\tplt.imshow(X_train[i], cmap=plt.cm.gray_r)\n",
        "\tplt.axis('off')\n",
        "\tplt.title('Label: {}'.format(y_train[i]))\n",
        "plt.show()"
      ]
    },
    {
      "cell_type": "code",
      "source": [
        "# flatten the features from 28*28 pixel to 784 wide vector\n",
        "X_train = np.reshape(X_train, (-1, 784)).astype('float32')\n",
        "X_test = np.reshape(X_test, (-1, 784)).astype('float32')"
      ],
      "metadata": {
        "id": "w4i8-MIl9Nqj"
      },
      "execution_count": 4,
      "outputs": []
    },
    {
      "cell_type": "code",
      "source": [
        "# keep 10 percent of the data\n",
        "slice_ratio = 10\n",
        "X_train = X_train[:X_train.shape[0]//slice_ratio,:]\n",
        "y_train = y_train[:y_train.shape[0]//slice_ratio]\n",
        "X_test = X_test[:X_test.shape[0]//slice_ratio,:]\n",
        "y_test = y_test[:y_test.shape[0]//slice_ratio]\n",
        "\n",
        "print('Train: X=%s, y=%s' % (X_train.shape, y_train.shape))\n",
        "print('Test: X=%s, y=%s' % (X_test.shape, y_test.shape))"
      ],
      "metadata": {
        "colab": {
          "base_uri": "https://localhost:8080/"
        },
        "id": "9cBcKTSN60Vi",
        "outputId": "351213d6-a314-42ce-ef31-7084d3c2cfb6"
      },
      "execution_count": 5,
      "outputs": [
        {
          "output_type": "stream",
          "name": "stdout",
          "text": [
            "Train: X=(6000, 784), y=(6000,)\n",
            "Test: X=(1000, 784), y=(1000,)\n"
          ]
        }
      ]
    },
    {
      "cell_type": "markdown",
      "source": [
        "# (a) Linear SVM"
      ],
      "metadata": {
        "id": "43B94YeQASx6"
      }
    },
    {
      "cell_type": "markdown",
      "source": [
        "ref : The uploaded ClassicalMachineLearning.ipynb notebook in course material"
      ],
      "metadata": {
        "id": "3V1Q1QwbBrcw"
      }
    },
    {
      "cell_type": "code",
      "source": [
        "#train\n",
        "linear_model = svm.SVC(kernel='linear')\n",
        "linear_model.fit(X_train, y_train)\n",
        "#Evaluate\n",
        "y_pred = linear_model.predict(X_test)\n",
        "acc = accuracy_score(y_test, y_pred)\n",
        "print(\"Accuracy on the test dataset: {}\".format(acc))"
      ],
      "metadata": {
        "id": "cfkIGrSLxh5r",
        "colab": {
          "base_uri": "https://localhost:8080/"
        },
        "outputId": "893b1796-34d0-4618-92dc-3010bd3578a0"
      },
      "execution_count": 6,
      "outputs": [
        {
          "output_type": "stream",
          "name": "stdout",
          "text": [
            "Accuracy on the test dataset: 0.888\n"
          ]
        }
      ]
    },
    {
      "cell_type": "markdown",
      "source": [
        "# (b) RBF-SVM "
      ],
      "metadata": {
        "id": "IrpGLp_RBjt6"
      }
    },
    {
      "cell_type": "code",
      "source": [
        "#train\n",
        "rbf_model = svm.SVC(kernel='rbf')\n",
        "rbf_model.fit(X_train, y_train)\n",
        "#Evaluate\n",
        "y_pred = rbf_model.predict(X_test)\n",
        "acc = accuracy_score(y_test, y_pred)\n",
        "print(\"Accuracy on the test data: \", acc)"
      ],
      "metadata": {
        "colab": {
          "base_uri": "https://localhost:8080/"
        },
        "id": "h8SyHIzUA8yV",
        "outputId": "6a63a397-b434-4107-b425-6d7fd0785e13"
      },
      "execution_count": 7,
      "outputs": [
        {
          "output_type": "stream",
          "name": "stdout",
          "text": [
            "Accuracy on the test data:  0.938\n"
          ]
        }
      ]
    },
    {
      "cell_type": "markdown",
      "source": [
        "# (c) Default parametrs of RBF-SVM in sklearn:  "
      ],
      "metadata": {
        "id": "kcMkadU_DLn3"
      }
    },
    {
      "cell_type": "markdown",
      "source": [
        "ref: [url](https://scikit-learn.org/stable/modules/generated/sklearn.svm.SVC.html) and [article](https://www.researchgate.net/publication/343903629_How_to_tune_the_RBF_SVM_hyperparameters_An_empirical_evaluation_of_18_search_algorithms)\n",
        "\n",
        "\n",
        "*   C: float, default=1.0\n",
        ">   Regularization parameter. The strength of the regularization is inversely proportional to C. Must be strictly positive. The penalty is a squared l2 penalty.\n",
        ">   A *lower* C will allow more support vectors, resulting in larger margins.\n",
        "\n",
        "*   gamma: {‘scale’, ‘auto’} or float, default=’scale’\n",
        ">   Kernel coefficient for ‘rbf’, ‘poly’ and ‘sigmoid’. As gamma increases, the decision surfaces become more ”curvy” and fit closely to the training data.\n",
        ">   *   if gamma='scale' (default) is passed then it uses 1 / (n_features * X.var())as value of gamma,\n",
        ">   *   if ‘auto’, uses 1 / n_features.\n",
        "\n",
        "\n",
        "\n",
        "\n",
        "\n",
        "\n",
        "\n",
        "\n",
        "\n",
        "\n"
      ],
      "metadata": {
        "id": "mAOI5stiDNwS"
      }
    },
    {
      "cell_type": "code",
      "source": [
        "print(\"default gamma: \", 1 / (X_train.shape[1] * X_train.var()))"
      ],
      "metadata": {
        "colab": {
          "base_uri": "https://localhost:8080/"
        },
        "id": "y9sjHspBRzBS",
        "outputId": "526bf5e7-16bc-4ea0-e5ee-32698450dfae"
      },
      "execution_count": 8,
      "outputs": [
        {
          "output_type": "stream",
          "name": "stdout",
          "text": [
            "default gamma:  2.054710503690529e-07\n"
          ]
        }
      ]
    },
    {
      "cell_type": "markdown",
      "source": [
        "# (d) Hyperparameter Tuning"
      ],
      "metadata": {
        "id": "9v8vD9_oL0e3"
      }
    },
    {
      "cell_type": "markdown",
      "source": [
        "Based on [article](https://www.researchgate.net/publication/343903629_How_to_tune_the_RBF_SVM_hyperparameters_An_empirical_evaluation_of_18_search_algorithms) I used the following search space and bounds for C and gamma:\n",
        "\n",
        "$$\n",
        "Space: \\log_2 C × \\log_2 gamma \\\\\n",
        "Bounds: \\ 2^{-5} ≤ C ≤ 2^{15} ,\n",
        "\\ 2^{-15} ≤ gamma ≤ 2^{3} \n",
        "$$\n",
        "\n",
        " \n",
        "\n",
        "*   In the grid search the logarithmic space is divided into an equally spaced grid and only the pairs in the grid points are tested.\n",
        "*   In random search N random points are uniformly sampled from the logarithmic spacewithin the defined bounds.\n",
        "\n"
      ],
      "metadata": {
        "id": "RHryb2eOPpZ_"
      }
    },
    {
      "cell_type": "code",
      "source": [
        "C_range = np.logspace(-5, 15, 13)\n",
        "gamma_range = np.logspace(-15, 3, 13)\n",
        "param_space = dict(gamma=gamma_range, C=C_range)"
      ],
      "metadata": {
        "id": "LuwTV8OWNlnr"
      },
      "execution_count": 9,
      "outputs": []
    },
    {
      "cell_type": "markdown",
      "source": [
        "Grid search"
      ],
      "metadata": {
        "id": "KKhRQTlZMfyc"
      }
    },
    {
      "cell_type": "code",
      "source": [
        "grid_start = time.time()\n",
        "grid_search = GridSearchCV(svm.SVC(), param_grid=param_space, n_jobs=-1)\n",
        "grid_search.fit(X_train, y_train)\n",
        "grid_end = time.time()\n",
        "print('Best parameters: ', grid_search.best_params_, '\\n with the accuracy :', grid_search.best_score_)"
      ],
      "metadata": {
        "colab": {
          "base_uri": "https://localhost:8080/"
        },
        "id": "zIv3WeHzMnx6",
        "outputId": "9b819f9f-0b2b-4bd7-87a6-894a077617e2"
      },
      "execution_count": 10,
      "outputs": [
        {
          "output_type": "stream",
          "name": "stdout",
          "text": [
            "Best parameters:  {'C': 46.41588833612782, 'gamma': 3.162277660168379e-08} \n",
            " with the accuracy : 0.9406666666666667\n"
          ]
        }
      ]
    },
    {
      "cell_type": "markdown",
      "source": [
        "Random search"
      ],
      "metadata": {
        "id": "FUfmSjtNMkcs"
      }
    },
    {
      "cell_type": "code",
      "source": [
        "rnd_start = time.time()\n",
        "rnd_search = RandomizedSearchCV(svm.SVC(), param_space, n_jobs=-1)\n",
        "rnd_search.fit(X_train, y_train)\n",
        "rnd_end = time.time()\n",
        "print('Best parameters: ', rnd_search.best_params_, '\\n with the accuracy :', rnd_search.best_score_)"
      ],
      "metadata": {
        "colab": {
          "base_uri": "https://localhost:8080/"
        },
        "id": "_UISvMh9CaHm",
        "outputId": "d365dbeb-9497-470d-f96e-aa822d017442"
      },
      "execution_count": 11,
      "outputs": [
        {
          "output_type": "stream",
          "name": "stdout",
          "text": [
            "Best parameters:  {'gamma': 1e-06, 'C': 10000000000.0} \n",
            " with the accuracy : 0.9391666666666667\n"
          ]
        }
      ]
    },
    {
      "cell_type": "markdown",
      "source": [
        "# (e) Computational efficiency "
      ],
      "metadata": {
        "id": "A7Kbn6WaX2su"
      }
    },
    {
      "cell_type": "code",
      "source": [
        "print('Grid Search Execution Time: ', grid_end - grid_start)\n",
        "print('Random Search Execution Time: ', rnd_end - rnd_start)"
      ],
      "metadata": {
        "colab": {
          "base_uri": "https://localhost:8080/"
        },
        "id": "yPZX6gvDX4aa",
        "outputId": "c556d0e2-794d-47ba-a235-28936002e05b"
      },
      "execution_count": 12,
      "outputs": [
        {
          "output_type": "stream",
          "name": "stdout",
          "text": [
            "Grid Search Execution Time:  8919.056124687195\n",
            "Random Search Execution Time:  620.7428193092346\n"
          ]
        }
      ]
    },
    {
      "cell_type": "markdown",
      "source": [
        "# (f) RBF_SVM with optimal hyperparameters"
      ],
      "metadata": {
        "id": "l1-FuWRIYQCh"
      }
    },
    {
      "cell_type": "markdown",
      "source": [
        "Grid Search"
      ],
      "metadata": {
        "id": "7w2HA3TRYZ25"
      }
    },
    {
      "cell_type": "code",
      "source": [
        "#train\n",
        "rbf_model = svm.SVC(kernel='rbf', gamma=grid_search.best_params_['gamma'], C=grid_search.best_params_['C'])\n",
        "rbf_model.fit(X_train, y_train)\n",
        "#Evaluate\n",
        "y_pred = rbf_model.predict(X_test)\n",
        "acc = accuracy_score(y_test, y_pred)\n",
        "print(\"Accuracy on the test data: \", acc)"
      ],
      "metadata": {
        "colab": {
          "base_uri": "https://localhost:8080/"
        },
        "id": "2SMLOT0QYV0w",
        "outputId": "3d61543c-6d20-436d-974a-f8e13c6e54d5"
      },
      "execution_count": 13,
      "outputs": [
        {
          "output_type": "stream",
          "name": "stdout",
          "text": [
            "Accuracy on the test data:  0.933\n"
          ]
        }
      ]
    },
    {
      "cell_type": "markdown",
      "source": [
        "Random Search"
      ],
      "metadata": {
        "id": "7nmeDehpYlFO"
      }
    },
    {
      "cell_type": "code",
      "source": [
        "#train\n",
        "rbf_model = svm.SVC(kernel='rbf', gamma=rnd_search.best_params_['gamma'], C=rnd_search.best_params_['C'])\n",
        "rbf_model.fit(X_train, y_train)\n",
        "#Evaluate\n",
        "y_pred = rbf_model.predict(X_test)\n",
        "acc = accuracy_score(y_test, y_pred)\n",
        "print(\"Accuracy on the test data: \", acc)"
      ],
      "metadata": {
        "id": "IrvsgTi2YlFR",
        "colab": {
          "base_uri": "https://localhost:8080/"
        },
        "outputId": "5d2e54c6-01c1-4784-c5a2-8220b25e7b4a"
      },
      "execution_count": 14,
      "outputs": [
        {
          "output_type": "stream",
          "name": "stdout",
          "text": [
            "Accuracy on the test data:  0.939\n"
          ]
        }
      ]
    },
    {
      "cell_type": "markdown",
      "source": [
        "The grid search method is so computationally expensive (14 times higher than the random search method) and the final accuracies with the optimal hyperparameters are almost the same. So overall, the random search method can be more efficient while keeping the high performance."
      ],
      "metadata": {
        "id": "AVm81g46GI7u"
      }
    }
  ]
}